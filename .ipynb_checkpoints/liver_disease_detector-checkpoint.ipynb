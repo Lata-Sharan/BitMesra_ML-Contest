{
 "cells": [
  {
   "cell_type": "markdown",
   "id": "f85fd3ef",
   "metadata": {},
   "source": [
    "# Importing Libraries\n"
   ]
  },
  {
   "cell_type": "code",
   "execution_count": 1,
   "id": "126e321d",
   "metadata": {},
   "outputs": [],
   "source": [
    "import numpy as np\n",
    "import pandas as pd\n",
    "import matplotlib.pyplot as plt\n",
    "import seaborn as sns\n",
    "import sklearn\n",
    "from sklearn.preprocessing import LabelEncoder\n",
    "%matplotlib inline\n",
    "from scipy import stats"
   ]
  },
  {
   "cell_type": "markdown",
   "id": "dcc49af2",
   "metadata": {},
   "source": [
    "# Loading Dataset"
   ]
  },
  {
   "cell_type": "code",
   "execution_count": 2,
   "id": "77c9efd8",
   "metadata": {},
   "outputs": [],
   "source": [
    "df = pd.read_csv('train_dataset.csv')"
   ]
  },
  {
   "cell_type": "code",
   "execution_count": 3,
   "id": "7a15ec4a",
   "metadata": {},
   "outputs": [],
   "source": [
    "dfc=df.copy()"
   ]
  },
  {
   "cell_type": "code",
   "execution_count": 4,
   "id": "5565382e",
   "metadata": {},
   "outputs": [
    {
     "data": {
      "text/html": [
       "<div>\n",
       "<style scoped>\n",
       "    .dataframe tbody tr th:only-of-type {\n",
       "        vertical-align: middle;\n",
       "    }\n",
       "\n",
       "    .dataframe tbody tr th {\n",
       "        vertical-align: top;\n",
       "    }\n",
       "\n",
       "    .dataframe thead th {\n",
       "        text-align: right;\n",
       "    }\n",
       "</style>\n",
       "<table border=\"1\" class=\"dataframe\">\n",
       "  <thead>\n",
       "    <tr style=\"text-align: right;\">\n",
       "      <th></th>\n",
       "      <th>ID</th>\n",
       "      <th>N_Days</th>\n",
       "      <th>Status</th>\n",
       "      <th>Drug</th>\n",
       "      <th>Age</th>\n",
       "      <th>Sex</th>\n",
       "      <th>Ascites</th>\n",
       "      <th>Hepatomegaly</th>\n",
       "      <th>Spiders</th>\n",
       "      <th>Edema</th>\n",
       "      <th>Bilirubin</th>\n",
       "      <th>Cholesterol</th>\n",
       "      <th>Albumin</th>\n",
       "      <th>Copper</th>\n",
       "      <th>Alk_Phos</th>\n",
       "      <th>SGOT</th>\n",
       "      <th>Tryglicerides</th>\n",
       "      <th>Platelets</th>\n",
       "      <th>Prothrombin</th>\n",
       "      <th>Stage</th>\n",
       "    </tr>\n",
       "  </thead>\n",
       "  <tbody>\n",
       "    <tr>\n",
       "      <th>0</th>\n",
       "      <td>7135</td>\n",
       "      <td>1654</td>\n",
       "      <td>CL</td>\n",
       "      <td>D-penicillamine</td>\n",
       "      <td>19581</td>\n",
       "      <td>F</td>\n",
       "      <td>N</td>\n",
       "      <td>N</td>\n",
       "      <td>Y</td>\n",
       "      <td>N</td>\n",
       "      <td>0.3</td>\n",
       "      <td>279.0</td>\n",
       "      <td>2.96</td>\n",
       "      <td>84.0</td>\n",
       "      <td>1500.8</td>\n",
       "      <td>99.43</td>\n",
       "      <td>109.0</td>\n",
       "      <td>293.0</td>\n",
       "      <td>10.2</td>\n",
       "      <td>4.0</td>\n",
       "    </tr>\n",
       "    <tr>\n",
       "      <th>1</th>\n",
       "      <td>7326</td>\n",
       "      <td>41</td>\n",
       "      <td>C</td>\n",
       "      <td>D-penicillamine</td>\n",
       "      <td>22880</td>\n",
       "      <td>F</td>\n",
       "      <td>NaN</td>\n",
       "      <td>N</td>\n",
       "      <td>NaN</td>\n",
       "      <td>N</td>\n",
       "      <td>0.3</td>\n",
       "      <td>NaN</td>\n",
       "      <td>2.96</td>\n",
       "      <td>NaN</td>\n",
       "      <td>1835.4</td>\n",
       "      <td>26.35</td>\n",
       "      <td>131.0</td>\n",
       "      <td>308.0</td>\n",
       "      <td>10.8</td>\n",
       "      <td>1.0</td>\n",
       "    </tr>\n",
       "    <tr>\n",
       "      <th>2</th>\n",
       "      <td>7254</td>\n",
       "      <td>297</td>\n",
       "      <td>D</td>\n",
       "      <td>NaN</td>\n",
       "      <td>27957</td>\n",
       "      <td>F</td>\n",
       "      <td>N</td>\n",
       "      <td>N</td>\n",
       "      <td>NaN</td>\n",
       "      <td>N</td>\n",
       "      <td>0.3</td>\n",
       "      <td>328.0</td>\n",
       "      <td>2.64</td>\n",
       "      <td>4.0</td>\n",
       "      <td>NaN</td>\n",
       "      <td>NaN</td>\n",
       "      <td>116.0</td>\n",
       "      <td>194.0</td>\n",
       "      <td>10.3</td>\n",
       "      <td>3.0</td>\n",
       "    </tr>\n",
       "    <tr>\n",
       "      <th>3</th>\n",
       "      <td>3135</td>\n",
       "      <td>1872</td>\n",
       "      <td>C</td>\n",
       "      <td>D-penicillamine</td>\n",
       "      <td>21111</td>\n",
       "      <td>F</td>\n",
       "      <td>NaN</td>\n",
       "      <td>Y</td>\n",
       "      <td>Y</td>\n",
       "      <td>N</td>\n",
       "      <td>0.3</td>\n",
       "      <td>302.0</td>\n",
       "      <td>2.02</td>\n",
       "      <td>49.0</td>\n",
       "      <td>NaN</td>\n",
       "      <td>26.35</td>\n",
       "      <td>NaN</td>\n",
       "      <td>NaN</td>\n",
       "      <td>10.5</td>\n",
       "      <td>4.0</td>\n",
       "    </tr>\n",
       "    <tr>\n",
       "      <th>4</th>\n",
       "      <td>2483</td>\n",
       "      <td>939</td>\n",
       "      <td>CL</td>\n",
       "      <td>D-penicillamine</td>\n",
       "      <td>18061</td>\n",
       "      <td>F</td>\n",
       "      <td>NaN</td>\n",
       "      <td>NaN</td>\n",
       "      <td>NaN</td>\n",
       "      <td>N</td>\n",
       "      <td>0.5</td>\n",
       "      <td>344.0</td>\n",
       "      <td>3.11</td>\n",
       "      <td>91.0</td>\n",
       "      <td>NaN</td>\n",
       "      <td>104.56</td>\n",
       "      <td>NaN</td>\n",
       "      <td>306.0</td>\n",
       "      <td>11.4</td>\n",
       "      <td>2.0</td>\n",
       "    </tr>\n",
       "    <tr>\n",
       "      <th>...</th>\n",
       "      <td>...</td>\n",
       "      <td>...</td>\n",
       "      <td>...</td>\n",
       "      <td>...</td>\n",
       "      <td>...</td>\n",
       "      <td>...</td>\n",
       "      <td>...</td>\n",
       "      <td>...</td>\n",
       "      <td>...</td>\n",
       "      <td>...</td>\n",
       "      <td>...</td>\n",
       "      <td>...</td>\n",
       "      <td>...</td>\n",
       "      <td>...</td>\n",
       "      <td>...</td>\n",
       "      <td>...</td>\n",
       "      <td>...</td>\n",
       "      <td>...</td>\n",
       "      <td>...</td>\n",
       "      <td>...</td>\n",
       "    </tr>\n",
       "    <tr>\n",
       "      <th>6795</th>\n",
       "      <td>4622</td>\n",
       "      <td>1762</td>\n",
       "      <td>C</td>\n",
       "      <td>Placebo</td>\n",
       "      <td>20909</td>\n",
       "      <td>M</td>\n",
       "      <td>NaN</td>\n",
       "      <td>N</td>\n",
       "      <td>NaN</td>\n",
       "      <td>N</td>\n",
       "      <td>0.9</td>\n",
       "      <td>360.0</td>\n",
       "      <td>2.43</td>\n",
       "      <td>NaN</td>\n",
       "      <td>3444.4</td>\n",
       "      <td>131.59</td>\n",
       "      <td>130.0</td>\n",
       "      <td>314.0</td>\n",
       "      <td>12.9</td>\n",
       "      <td>1.0</td>\n",
       "    </tr>\n",
       "    <tr>\n",
       "      <th>6796</th>\n",
       "      <td>4446</td>\n",
       "      <td>2955</td>\n",
       "      <td>C</td>\n",
       "      <td>Placebo</td>\n",
       "      <td>28650</td>\n",
       "      <td>F</td>\n",
       "      <td>Y</td>\n",
       "      <td>N</td>\n",
       "      <td>N</td>\n",
       "      <td>N</td>\n",
       "      <td>0.3</td>\n",
       "      <td>NaN</td>\n",
       "      <td>2.99</td>\n",
       "      <td>43.0</td>\n",
       "      <td>NaN</td>\n",
       "      <td>NaN</td>\n",
       "      <td>238.0</td>\n",
       "      <td>399.0</td>\n",
       "      <td>10.6</td>\n",
       "      <td>4.0</td>\n",
       "    </tr>\n",
       "    <tr>\n",
       "      <th>6797</th>\n",
       "      <td>4082</td>\n",
       "      <td>584</td>\n",
       "      <td>C</td>\n",
       "      <td>NaN</td>\n",
       "      <td>24102</td>\n",
       "      <td>F</td>\n",
       "      <td>N</td>\n",
       "      <td>Y</td>\n",
       "      <td>NaN</td>\n",
       "      <td>N</td>\n",
       "      <td>0.3</td>\n",
       "      <td>218.0</td>\n",
       "      <td>2.79</td>\n",
       "      <td>NaN</td>\n",
       "      <td>NaN</td>\n",
       "      <td>26.35</td>\n",
       "      <td>123.0</td>\n",
       "      <td>103.0</td>\n",
       "      <td>9.3</td>\n",
       "      <td>1.0</td>\n",
       "    </tr>\n",
       "    <tr>\n",
       "      <th>6798</th>\n",
       "      <td>2248</td>\n",
       "      <td>1426</td>\n",
       "      <td>CL</td>\n",
       "      <td>D-penicillamine</td>\n",
       "      <td>19791</td>\n",
       "      <td>F</td>\n",
       "      <td>N</td>\n",
       "      <td>NaN</td>\n",
       "      <td>Y</td>\n",
       "      <td>N</td>\n",
       "      <td>0.3</td>\n",
       "      <td>NaN</td>\n",
       "      <td>1.96</td>\n",
       "      <td>12.0</td>\n",
       "      <td>289.0</td>\n",
       "      <td>72.95</td>\n",
       "      <td>134.0</td>\n",
       "      <td>354.0</td>\n",
       "      <td>10.6</td>\n",
       "      <td>2.0</td>\n",
       "    </tr>\n",
       "    <tr>\n",
       "      <th>6799</th>\n",
       "      <td>4826</td>\n",
       "      <td>125</td>\n",
       "      <td>D</td>\n",
       "      <td>D-penicillamine</td>\n",
       "      <td>25245</td>\n",
       "      <td>F</td>\n",
       "      <td>Y</td>\n",
       "      <td>N</td>\n",
       "      <td>NaN</td>\n",
       "      <td>N</td>\n",
       "      <td>5.9</td>\n",
       "      <td>NaN</td>\n",
       "      <td>3.65</td>\n",
       "      <td>NaN</td>\n",
       "      <td>NaN</td>\n",
       "      <td>26.35</td>\n",
       "      <td>69.0</td>\n",
       "      <td>288.0</td>\n",
       "      <td>11.1</td>\n",
       "      <td>4.0</td>\n",
       "    </tr>\n",
       "  </tbody>\n",
       "</table>\n",
       "<p>6800 rows × 20 columns</p>\n",
       "</div>"
      ],
      "text/plain": [
       "        ID  N_Days Status             Drug    Age Sex Ascites Hepatomegaly  \\\n",
       "0     7135    1654     CL  D-penicillamine  19581   F       N            N   \n",
       "1     7326      41      C  D-penicillamine  22880   F     NaN            N   \n",
       "2     7254     297      D              NaN  27957   F       N            N   \n",
       "3     3135    1872      C  D-penicillamine  21111   F     NaN            Y   \n",
       "4     2483     939     CL  D-penicillamine  18061   F     NaN          NaN   \n",
       "...    ...     ...    ...              ...    ...  ..     ...          ...   \n",
       "6795  4622    1762      C          Placebo  20909   M     NaN            N   \n",
       "6796  4446    2955      C          Placebo  28650   F       Y            N   \n",
       "6797  4082     584      C              NaN  24102   F       N            Y   \n",
       "6798  2248    1426     CL  D-penicillamine  19791   F       N          NaN   \n",
       "6799  4826     125      D  D-penicillamine  25245   F       Y            N   \n",
       "\n",
       "     Spiders Edema  Bilirubin  Cholesterol  Albumin  Copper  Alk_Phos    SGOT  \\\n",
       "0          Y     N        0.3        279.0     2.96    84.0    1500.8   99.43   \n",
       "1        NaN     N        0.3          NaN     2.96     NaN    1835.4   26.35   \n",
       "2        NaN     N        0.3        328.0     2.64     4.0       NaN     NaN   \n",
       "3          Y     N        0.3        302.0     2.02    49.0       NaN   26.35   \n",
       "4        NaN     N        0.5        344.0     3.11    91.0       NaN  104.56   \n",
       "...      ...   ...        ...          ...      ...     ...       ...     ...   \n",
       "6795     NaN     N        0.9        360.0     2.43     NaN    3444.4  131.59   \n",
       "6796       N     N        0.3          NaN     2.99    43.0       NaN     NaN   \n",
       "6797     NaN     N        0.3        218.0     2.79     NaN       NaN   26.35   \n",
       "6798       Y     N        0.3          NaN     1.96    12.0     289.0   72.95   \n",
       "6799     NaN     N        5.9          NaN     3.65     NaN       NaN   26.35   \n",
       "\n",
       "      Tryglicerides  Platelets  Prothrombin  Stage  \n",
       "0             109.0      293.0         10.2    4.0  \n",
       "1             131.0      308.0         10.8    1.0  \n",
       "2             116.0      194.0         10.3    3.0  \n",
       "3               NaN        NaN         10.5    4.0  \n",
       "4               NaN      306.0         11.4    2.0  \n",
       "...             ...        ...          ...    ...  \n",
       "6795          130.0      314.0         12.9    1.0  \n",
       "6796          238.0      399.0         10.6    4.0  \n",
       "6797          123.0      103.0          9.3    1.0  \n",
       "6798          134.0      354.0         10.6    2.0  \n",
       "6799           69.0      288.0         11.1    4.0  \n",
       "\n",
       "[6800 rows x 20 columns]"
      ]
     },
     "execution_count": 4,
     "metadata": {},
     "output_type": "execute_result"
    }
   ],
   "source": [
    "dfc"
   ]
  },
  {
   "cell_type": "markdown",
   "id": "fc8a63fd",
   "metadata": {},
   "source": [
    "# About the dataset"
   ]
  },
  {
   "cell_type": "markdown",
   "id": "a1430c9f",
   "metadata": {},
   "source": [
    "1) ID: Unique Identifier\n",
    "\n",
    "2) N_Days: number of days between registration and the earlier of death, transplantation, or study analysis time.\n",
    "\n",
    "3) Status: status of the patient C (censored), CL (censored due to liver tx), or D (death)\n",
    "\n",
    "4) Drug: type of the drug. D-penicillamine or placebo\n",
    "\n",
    "5) Age: age in [days]\n",
    "\n",
    "6) Sex: M (male) or F (female)\n",
    "\n",
    "7) Ascites: presence of ascites N (No) or Y (Yes)\n",
    "\n",
    "8) Hepatomegaly: the presence of hepatomegaly N (No) or Y (Yes)\n",
    "\n",
    "9) Spiders: the presence of spiders N (No) or Y (Yes)\n",
    "\n",
    "10) Edema: the presence of edema N (no edema and no diuretic therapy for edema), S (edema present without diuretics, or edema resolved by diuretics), or Y (edema despite diuretic therapy)\n",
    "\n",
    "11) Bilirubin: serum bilirubin in [mg/dl]\n",
    "\n",
    "12) Cholesterol: serum cholesterol in [mg/dl]\n",
    "\n",
    "13) Albumin: albumin in [gm/dl]\n",
    "\n",
    "14) Copper: urine copper in [ug/day]\n",
    "\n",
    "15) Alk_Phos: alkaline phosphatase in [U/liter]\n",
    "\n",
    "16) SGOT: SGOT in [U/ml]\n",
    "\n",
    "17) Tryglicerides: triglicerides in [mg/dl]\n",
    "\n",
    "18) Platelets: platelets per cubic [ml/1000]\n",
    "\n",
    "19) Prothrombin: prothrombin time in seconds [s]\n",
    "\n",
    "20) Stage: histologic stage of disease (1, 2, 3, or 4)"
   ]
  },
  {
   "cell_type": "markdown",
   "id": "2e2307e3",
   "metadata": {},
   "source": [
    "## Data Analysis"
   ]
  },
  {
   "cell_type": "code",
   "execution_count": 5,
   "id": "de23ac34",
   "metadata": {},
   "outputs": [
    {
     "name": "stdout",
     "output_type": "stream",
     "text": [
      "Unique Values in ID are 6800\n",
      "Unique Values in N_Days are 3069\n",
      "Unique Values in Status are 3\n",
      "Unique Values in Drug are 3\n",
      "Unique Values in Age are 4744\n",
      "Unique Values in Sex are 2\n",
      "Unique Values in Ascites are 3\n",
      "Unique Values in Hepatomegaly are 3\n",
      "Unique Values in Spiders are 3\n",
      "Unique Values in Edema are 3\n",
      "Unique Values in Bilirubin are 203\n",
      "Unique Values in Cholesterol are 457\n",
      "Unique Values in Albumin are 257\n",
      "Unique Values in Copper are 278\n",
      "Unique Values in Alk_Phos are 3608\n",
      "Unique Values in SGOT are 3130\n",
      "Unique Values in Tryglicerides are 269\n",
      "Unique Values in Platelets are 499\n",
      "Unique Values in Prothrombin are 69\n",
      "Unique Values in Stage are 4\n"
     ]
    }
   ],
   "source": [
    "for i in dfc.columns:\n",
    "    print('Unique Values in {} are {}'.format(i,len(dfc[i].unique())))"
   ]
  },
  {
   "cell_type": "code",
   "execution_count": 6,
   "id": "96c5038b",
   "metadata": {},
   "outputs": [
    {
     "name": "stdout",
     "output_type": "stream",
     "text": [
      "<class 'pandas.core.frame.DataFrame'>\n",
      "RangeIndex: 6800 entries, 0 to 6799\n",
      "Data columns (total 20 columns):\n",
      " #   Column         Non-Null Count  Dtype  \n",
      "---  ------         --------------  -----  \n",
      " 0   ID             6800 non-null   int64  \n",
      " 1   N_Days         6800 non-null   int64  \n",
      " 2   Status         6800 non-null   object \n",
      " 3   Drug           4775 non-null   object \n",
      " 4   Age            6800 non-null   int64  \n",
      " 5   Sex            6800 non-null   object \n",
      " 6   Ascites        4554 non-null   object \n",
      " 7   Hepatomegaly   4373 non-null   object \n",
      " 8   Spiders        4210 non-null   object \n",
      " 9   Edema          6800 non-null   object \n",
      " 10  Bilirubin      6800 non-null   float64\n",
      " 11  Cholesterol    3699 non-null   float64\n",
      " 12  Albumin        6800 non-null   float64\n",
      " 13  Copper         4644 non-null   float64\n",
      " 14  Alk_Phos       4302 non-null   float64\n",
      " 15  SGOT           4698 non-null   float64\n",
      " 16  Tryglicerides  3988 non-null   float64\n",
      " 17  Platelets      6462 non-null   float64\n",
      " 18  Prothrombin    6645 non-null   float64\n",
      " 19  Stage          6800 non-null   float64\n",
      "dtypes: float64(10), int64(3), object(7)\n",
      "memory usage: 1.0+ MB\n"
     ]
    }
   ],
   "source": [
    "dfc.info()"
   ]
  },
  {
   "cell_type": "markdown",
   "id": "63f37194",
   "metadata": {},
   "source": [
    "**INSIGHTS**\n",
    "1. Drug, Ascites, Hepatomegaly, Spiders are the features having null values and have object datatype so we will fill those nan values with the most occurring value.\n",
    "2. Cholesterol, Copper, Alk_Phos, SGOT, Tryglicerides, Platelets and Prothrombin are the features having float as their datatype so we will fill the non null values of these columns with their respective median or mean values."
   ]
  },
  {
   "cell_type": "code",
   "execution_count": 7,
   "id": "53ff9eb2",
   "metadata": {},
   "outputs": [
    {
     "data": {
      "image/png": "[encoded data removed]",
      "text/plain": [
       "<Figure size 1440x576 with 7 Axes>"
      ]
     },
     "metadata": {
      "needs_background": "light"
     },
     "output_type": "display_data"
    }
   ],
   "source": [
    "colmns=['Sex','Spiders','Ascites','Hepatomegaly','Edema','Drug','Status']\n",
    "plt.figure(figsize=(20,8))\n",
    "for i,col in enumerate(colmns):\n",
    "    ax = plt.subplot(2,4, i+1)\n",
    "    sns.countplot(x=col,hue='Stage',data=dfc,ax=ax)\n",
    "plt.tight_layout(pad=2)\n",
    "plt.show()"
   ]
  },
  {
   "cell_type": "markdown",
   "id": "073592b4",
   "metadata": {},
   "source": [
    "**INSIGHTS**\n",
    "1. Females are more prone to liver diseases in comparison to males and that too at stage 4.\n",
    "2. It is considered that many patients doesn't have presence of Ascites, Spiders, Edema and Hepatomegaly but still got affected with liver disease.\n",
    "3. The status of many patients is censored and in considerable amount some patients have led to death.\n",
    "4. Type of drug given to the patients are having somewhat equal effect but D-penicillamine is having a bit more comparatively."
   ]
  },
  {
   "cell_type": "code",
   "execution_count": 8,
   "id": "a20abc5c",
   "metadata": {},
   "outputs": [
    {
     "data": {
      "image/png": "[encoded data removed]",
      "text/plain": [
       "<Figure size 1440x288 with 4 Axes>"
      ]
     },
     "metadata": {
      "needs_background": "light"
     },
     "output_type": "display_data"
    }
   ],
   "source": [
    "columns=['Cholesterol','Albumin','Copper','Platelets']\n",
    "plt.figure(figsize=(20,4))\n",
    "for i,col in enumerate(columns):\n",
    "    ax = plt.subplot(1,4, i+1)\n",
    "    sns.boxplot(y=col,x='Stage',data=dfc,ax=ax)\n",
    "plt.tight_layout(pad=2)\n",
    "plt.show()"
   ]
  },
  {
   "cell_type": "code",
   "execution_count": 9,
   "id": "a345617f",
   "metadata": {},
   "outputs": [
    {
     "data": {
      "image/png": "[encoded data removed]",
      "text/plain": [
       "<Figure size 1080x432 with 6 Axes>"
      ]
     },
     "metadata": {
      "needs_background": "light"
     },
     "output_type": "display_data"
    }
   ],
   "source": [
    "cols=['N_Days','Age','Tryglicerides','Prothrombin','Alk_Phos','SGOT']\n",
    "plt.figure(figsize=(15,6))\n",
    "for i,col in enumerate(cols):\n",
    "    ax = plt.subplot(2,3, i+1)\n",
    "    sns.scatterplot(y=col,x='Stage',data=dfc,ax=ax)\n",
    "plt.tight_layout(pad=1)\n",
    "plt.show()"
   ]
  },
  {
   "cell_type": "code",
   "execution_count": 10,
   "id": "dfdf8c74",
   "metadata": {},
   "outputs": [
    {
     "name": "stderr",
     "output_type": "stream",
     "text": [
      "c:\\users\\chira\\appdata\\local\\programs\\python\\python39\\lib\\site-packages\\seaborn\\_decorators.py:36: FutureWarning: Pass the following variable as a keyword arg: x. From version 0.12, the only valid positional argument will be `data`, and passing other arguments without an explicit keyword will result in an error or misinterpretation.\n",
      "  warnings.warn(\n"
     ]
    },
    {
     "data": {
      "image/png": "[encoded data removed]",
      "text/plain": [
       "<Figure size 432x288 with 1 Axes>"
      ]
     },
     "metadata": {
      "needs_background": "light"
     },
     "output_type": "display_data"
    }
   ],
   "source": [
    "sns.countplot(df['Stage'],label=\"Count\")\n",
    "plt.show()\n"
   ]
  },
  {
   "cell_type": "markdown",
   "id": "02092250",
   "metadata": {},
   "source": [
    "**INSIGHTS**\n",
    "* Mostly Patients are at the last stage of the disease i.e. stage 4."
   ]
  },
  {
   "cell_type": "markdown",
   "id": "47e3d5e6",
   "metadata": {},
   "source": [
    "## Data Cleansing "
   ]
  },
  {
   "cell_type": "code",
   "execution_count": 11,
   "id": "ac76788c",
   "metadata": {},
   "outputs": [],
   "source": [
    "dfc[\"Cholesterol\"] = np. where(dfc[\"Cholesterol\"]>900, 312.00, dfc[\"Cholesterol\"])\n",
    "dfc[\"Albumin\"] = np. where(dfc[\"Albumin\"]>4.5, 3.02, dfc[\"Albumin\"])\n",
    "dfc[\"Copper\"] = np. where(dfc[\"Copper\"]>350, 68, dfc[\"Copper\"])"
   ]
  },
  {
   "cell_type": "code",
   "execution_count": 12,
   "id": "1afbc3e1",
   "metadata": {},
   "outputs": [],
   "source": [
    "#Dropping duplicate rows\n",
    "dfc.drop_duplicates(inplace=True)"
   ]
  },
  {
   "cell_type": "code",
   "execution_count": 13,
   "id": "84c5f56f",
   "metadata": {},
   "outputs": [],
   "source": [
    "#Dropping unnecessary column\n",
    "dfc.drop(['ID'],axis=1,inplace=True)"
   ]
  },
  {
   "cell_type": "code",
   "execution_count": 14,
   "id": "509f7048",
   "metadata": {},
   "outputs": [],
   "source": [
    "dfc = dfc.loc[dfc['Age']>0]\n",
    "dfc = dfc.loc[dfc['N_Days']>0]\n",
    "dfc = dfc.loc[dfc['Stage']>0]"
   ]
  },
  {
   "cell_type": "code",
   "execution_count": 15,
   "id": "bb01b54e",
   "metadata": {},
   "outputs": [
    {
     "data": {
      "text/plain": [
       "(6800, 19)"
      ]
     },
     "execution_count": 15,
     "metadata": {},
     "output_type": "execute_result"
    }
   ],
   "source": [
    "dfc.shape"
   ]
  },
  {
   "cell_type": "code",
   "execution_count": 16,
   "id": "91a9d639",
   "metadata": {},
   "outputs": [
    {
     "data": {
      "text/html": [
       "<div>\n",
       "<style scoped>\n",
       "    .dataframe tbody tr th:only-of-type {\n",
       "        vertical-align: middle;\n",
       "    }\n",
       "\n",
       "    .dataframe tbody tr th {\n",
       "        vertical-align: top;\n",
       "    }\n",
       "\n",
       "    .dataframe thead th {\n",
       "        text-align: right;\n",
       "    }\n",
       "</style>\n",
       "<table border=\"1\" class=\"dataframe\">\n",
       "  <thead>\n",
       "    <tr style=\"text-align: right;\">\n",
       "      <th></th>\n",
       "      <th>N_Days</th>\n",
       "      <th>Age</th>\n",
       "      <th>Bilirubin</th>\n",
       "      <th>Cholesterol</th>\n",
       "      <th>Albumin</th>\n",
       "      <th>Copper</th>\n",
       "      <th>Alk_Phos</th>\n",
       "      <th>SGOT</th>\n",
       "      <th>Tryglicerides</th>\n",
       "      <th>Platelets</th>\n",
       "      <th>Prothrombin</th>\n",
       "      <th>Stage</th>\n",
       "    </tr>\n",
       "  </thead>\n",
       "  <tbody>\n",
       "    <tr>\n",
       "      <th>count</th>\n",
       "      <td>6800.000000</td>\n",
       "      <td>6800.000000</td>\n",
       "      <td>6800.000000</td>\n",
       "      <td>3699.000000</td>\n",
       "      <td>6800.000000</td>\n",
       "      <td>4644.000000</td>\n",
       "      <td>4302.000000</td>\n",
       "      <td>4698.000000</td>\n",
       "      <td>3988.000000</td>\n",
       "      <td>6462.000000</td>\n",
       "      <td>6645.000000</td>\n",
       "      <td>6800.000000</td>\n",
       "    </tr>\n",
       "    <tr>\n",
       "      <th>mean</th>\n",
       "      <td>1664.055441</td>\n",
       "      <td>22863.223529</td>\n",
       "      <td>1.806147</td>\n",
       "      <td>289.809678</td>\n",
       "      <td>3.033596</td>\n",
       "      <td>66.551249</td>\n",
       "      <td>1802.951464</td>\n",
       "      <td>79.554427</td>\n",
       "      <td>133.857823</td>\n",
       "      <td>293.306097</td>\n",
       "      <td>11.231031</td>\n",
       "      <td>3.157206</td>\n",
       "    </tr>\n",
       "    <tr>\n",
       "      <th>std</th>\n",
       "      <td>1332.308135</td>\n",
       "      <td>4671.135682</td>\n",
       "      <td>3.218009</td>\n",
       "      <td>105.779486</td>\n",
       "      <td>0.524495</td>\n",
       "      <td>51.569660</td>\n",
       "      <td>1618.550339</td>\n",
       "      <td>43.433832</td>\n",
       "      <td>47.291444</td>\n",
       "      <td>115.146088</td>\n",
       "      <td>1.123444</td>\n",
       "      <td>0.993059</td>\n",
       "    </tr>\n",
       "    <tr>\n",
       "      <th>min</th>\n",
       "      <td>41.000000</td>\n",
       "      <td>9598.000000</td>\n",
       "      <td>0.300000</td>\n",
       "      <td>120.000000</td>\n",
       "      <td>1.960000</td>\n",
       "      <td>4.000000</td>\n",
       "      <td>289.000000</td>\n",
       "      <td>26.350000</td>\n",
       "      <td>33.000000</td>\n",
       "      <td>62.000000</td>\n",
       "      <td>9.000000</td>\n",
       "      <td>1.000000</td>\n",
       "    </tr>\n",
       "    <tr>\n",
       "      <th>25%</th>\n",
       "      <td>537.000000</td>\n",
       "      <td>19416.500000</td>\n",
       "      <td>0.300000</td>\n",
       "      <td>204.000000</td>\n",
       "      <td>2.680000</td>\n",
       "      <td>26.000000</td>\n",
       "      <td>1122.650000</td>\n",
       "      <td>35.290000</td>\n",
       "      <td>114.000000</td>\n",
       "      <td>213.000000</td>\n",
       "      <td>10.500000</td>\n",
       "      <td>2.000000</td>\n",
       "    </tr>\n",
       "    <tr>\n",
       "      <th>50%</th>\n",
       "      <td>1443.000000</td>\n",
       "      <td>23367.000000</td>\n",
       "      <td>0.400000</td>\n",
       "      <td>312.000000</td>\n",
       "      <td>3.020000</td>\n",
       "      <td>68.000000</td>\n",
       "      <td>1563.150000</td>\n",
       "      <td>88.505000</td>\n",
       "      <td>128.000000</td>\n",
       "      <td>285.000000</td>\n",
       "      <td>11.100000</td>\n",
       "      <td>4.000000</td>\n",
       "    </tr>\n",
       "    <tr>\n",
       "      <th>75%</th>\n",
       "      <td>2519.000000</td>\n",
       "      <td>27125.500000</td>\n",
       "      <td>1.800000</td>\n",
       "      <td>352.000000</td>\n",
       "      <td>3.390000</td>\n",
       "      <td>91.000000</td>\n",
       "      <td>2013.250000</td>\n",
       "      <td>110.672500</td>\n",
       "      <td>141.000000</td>\n",
       "      <td>365.000000</td>\n",
       "      <td>11.700000</td>\n",
       "      <td>4.000000</td>\n",
       "    </tr>\n",
       "    <tr>\n",
       "      <th>max</th>\n",
       "      <td>4795.000000</td>\n",
       "      <td>28650.000000</td>\n",
       "      <td>28.000000</td>\n",
       "      <td>899.000000</td>\n",
       "      <td>4.490000</td>\n",
       "      <td>344.000000</td>\n",
       "      <td>13862.400000</td>\n",
       "      <td>340.480000</td>\n",
       "      <td>498.000000</td>\n",
       "      <td>563.000000</td>\n",
       "      <td>18.000000</td>\n",
       "      <td>4.000000</td>\n",
       "    </tr>\n",
       "  </tbody>\n",
       "</table>\n",
       "</div>"
      ],
      "text/plain": [
       "            N_Days           Age    Bilirubin  Cholesterol      Albumin  \\\n",
       "count  6800.000000   6800.000000  6800.000000  3699.000000  6800.000000   \n",
       "mean   1664.055441  22863.223529     1.806147   289.809678     3.033596   \n",
       "std    1332.308135   4671.135682     3.218009   105.779486     0.524495   \n",
       "min      41.000000   9598.000000     0.300000   120.000000     1.960000   \n",
       "25%     537.000000  19416.500000     0.300000   204.000000     2.680000   \n",
       "50%    1443.000000  23367.000000     0.400000   312.000000     3.020000   \n",
       "75%    2519.000000  27125.500000     1.800000   352.000000     3.390000   \n",
       "max    4795.000000  28650.000000    28.000000   899.000000     4.490000   \n",
       "\n",
       "            Copper      Alk_Phos         SGOT  Tryglicerides    Platelets  \\\n",
       "count  4644.000000   4302.000000  4698.000000    3988.000000  6462.000000   \n",
       "mean     66.551249   1802.951464    79.554427     133.857823   293.306097   \n",
       "std      51.569660   1618.550339    43.433832      47.291444   115.146088   \n",
       "min       4.000000    289.000000    26.350000      33.000000    62.000000   \n",
       "25%      26.000000   1122.650000    35.290000     114.000000   213.000000   \n",
       "50%      68.000000   1563.150000    88.505000     128.000000   285.000000   \n",
       "75%      91.000000   2013.250000   110.672500     141.000000   365.000000   \n",
       "max     344.000000  13862.400000   340.480000     498.000000   563.000000   \n",
       "\n",
       "       Prothrombin        Stage  \n",
       "count  6645.000000  6800.000000  \n",
       "mean     11.231031     3.157206  \n",
       "std       1.123444     0.993059  \n",
       "min       9.000000     1.000000  \n",
       "25%      10.500000     2.000000  \n",
       "50%      11.100000     4.000000  \n",
       "75%      11.700000     4.000000  \n",
       "max      18.000000     4.000000  "
      ]
     },
     "execution_count": 16,
     "metadata": {},
     "output_type": "execute_result"
    }
   ],
   "source": [
    "dfc.describe()"
   ]
  },
  {
   "cell_type": "code",
   "execution_count": 17,
   "id": "aefdae5b",
   "metadata": {},
   "outputs": [],
   "source": [
    "dfc['Cholesterol']= dfc['Cholesterol'].replace(np.nan,312.00)\n",
    "dfc['Copper']= dfc['Copper'].replace(np.nan,68.00)\n",
    "dfc['Alk_Phos']= dfc['Alk_Phos'].replace(np.nan,1563)\n",
    "dfc['SGOT']= dfc['SGOT'].replace(np.nan,88.505)\n",
    "dfc['Tryglicerides']= dfc['Tryglicerides'].replace(np.nan,128.00)\n",
    "dfc['Platelets']= dfc['Platelets'].replace(np.nan,285.00)\n",
    "dfc['Prothrombin']= dfc['Prothrombin'].replace(np.nan,11.1)\n",
    "dfc['Spiders']=dfc['Spiders'].replace(np.nan,'N')\n",
    "dfc['Ascites']=dfc['Ascites'].replace(np.nan,'N')\n",
    "dfc['Hepatomegaly']=dfc['Hepatomegaly'].replace(np.nan,'N')\n",
    "dfc['Drug']=dfc['Drug'].replace(np.nan,'D-penicillamine')"
   ]
  },
  {
   "cell_type": "code",
   "execution_count": 18,
   "id": "8d42cecc",
   "metadata": {
    "scrolled": true
   },
   "outputs": [
    {
     "data": {
      "text/html": [
       "<div>\n",
       "<style scoped>\n",
       "    .dataframe tbody tr th:only-of-type {\n",
       "        vertical-align: middle;\n",
       "    }\n",
       "\n",
       "    .dataframe tbody tr th {\n",
       "        vertical-align: top;\n",
       "    }\n",
       "\n",
       "    .dataframe thead th {\n",
       "        text-align: right;\n",
       "    }\n",
       "</style>\n",
       "<table border=\"1\" class=\"dataframe\">\n",
       "  <thead>\n",
       "    <tr style=\"text-align: right;\">\n",
       "      <th></th>\n",
       "      <th>N_Days</th>\n",
       "      <th>Status</th>\n",
       "      <th>Age</th>\n",
       "      <th>Edema</th>\n",
       "      <th>Bilirubin</th>\n",
       "      <th>Cholesterol</th>\n",
       "      <th>Albumin</th>\n",
       "      <th>Copper</th>\n",
       "      <th>Alk_Phos</th>\n",
       "      <th>SGOT</th>\n",
       "      <th>Tryglicerides</th>\n",
       "      <th>Platelets</th>\n",
       "      <th>Prothrombin</th>\n",
       "      <th>Stage</th>\n",
       "      <th>Sex_M</th>\n",
       "      <th>Drug_Placebo</th>\n",
       "      <th>Ascites_Y</th>\n",
       "      <th>Hepatomegaly_Y</th>\n",
       "      <th>Spiders_Y</th>\n",
       "    </tr>\n",
       "  </thead>\n",
       "  <tbody>\n",
       "    <tr>\n",
       "      <th>0</th>\n",
       "      <td>1654</td>\n",
       "      <td>1</td>\n",
       "      <td>19581</td>\n",
       "      <td>0</td>\n",
       "      <td>0.3</td>\n",
       "      <td>279.0</td>\n",
       "      <td>2.96</td>\n",
       "      <td>84.0</td>\n",
       "      <td>1500.8</td>\n",
       "      <td>99.430</td>\n",
       "      <td>109.0</td>\n",
       "      <td>293.0</td>\n",
       "      <td>10.2</td>\n",
       "      <td>4.0</td>\n",
       "      <td>0</td>\n",
       "      <td>0</td>\n",
       "      <td>0</td>\n",
       "      <td>0</td>\n",
       "      <td>1</td>\n",
       "    </tr>\n",
       "    <tr>\n",
       "      <th>1</th>\n",
       "      <td>41</td>\n",
       "      <td>0</td>\n",
       "      <td>22880</td>\n",
       "      <td>0</td>\n",
       "      <td>0.3</td>\n",
       "      <td>312.0</td>\n",
       "      <td>2.96</td>\n",
       "      <td>68.0</td>\n",
       "      <td>1835.4</td>\n",
       "      <td>26.350</td>\n",
       "      <td>131.0</td>\n",
       "      <td>308.0</td>\n",
       "      <td>10.8</td>\n",
       "      <td>1.0</td>\n",
       "      <td>0</td>\n",
       "      <td>0</td>\n",
       "      <td>0</td>\n",
       "      <td>0</td>\n",
       "      <td>0</td>\n",
       "    </tr>\n",
       "    <tr>\n",
       "      <th>2</th>\n",
       "      <td>297</td>\n",
       "      <td>2</td>\n",
       "      <td>27957</td>\n",
       "      <td>0</td>\n",
       "      <td>0.3</td>\n",
       "      <td>328.0</td>\n",
       "      <td>2.64</td>\n",
       "      <td>4.0</td>\n",
       "      <td>1563.0</td>\n",
       "      <td>88.505</td>\n",
       "      <td>116.0</td>\n",
       "      <td>194.0</td>\n",
       "      <td>10.3</td>\n",
       "      <td>3.0</td>\n",
       "      <td>0</td>\n",
       "      <td>0</td>\n",
       "      <td>0</td>\n",
       "      <td>0</td>\n",
       "      <td>0</td>\n",
       "    </tr>\n",
       "    <tr>\n",
       "      <th>3</th>\n",
       "      <td>1872</td>\n",
       "      <td>0</td>\n",
       "      <td>21111</td>\n",
       "      <td>0</td>\n",
       "      <td>0.3</td>\n",
       "      <td>302.0</td>\n",
       "      <td>2.02</td>\n",
       "      <td>49.0</td>\n",
       "      <td>1563.0</td>\n",
       "      <td>26.350</td>\n",
       "      <td>128.0</td>\n",
       "      <td>285.0</td>\n",
       "      <td>10.5</td>\n",
       "      <td>4.0</td>\n",
       "      <td>0</td>\n",
       "      <td>0</td>\n",
       "      <td>0</td>\n",
       "      <td>1</td>\n",
       "      <td>1</td>\n",
       "    </tr>\n",
       "    <tr>\n",
       "      <th>4</th>\n",
       "      <td>939</td>\n",
       "      <td>1</td>\n",
       "      <td>18061</td>\n",
       "      <td>0</td>\n",
       "      <td>0.5</td>\n",
       "      <td>344.0</td>\n",
       "      <td>3.11</td>\n",
       "      <td>91.0</td>\n",
       "      <td>1563.0</td>\n",
       "      <td>104.560</td>\n",
       "      <td>128.0</td>\n",
       "      <td>306.0</td>\n",
       "      <td>11.4</td>\n",
       "      <td>2.0</td>\n",
       "      <td>0</td>\n",
       "      <td>0</td>\n",
       "      <td>0</td>\n",
       "      <td>0</td>\n",
       "      <td>0</td>\n",
       "    </tr>\n",
       "    <tr>\n",
       "      <th>...</th>\n",
       "      <td>...</td>\n",
       "      <td>...</td>\n",
       "      <td>...</td>\n",
       "      <td>...</td>\n",
       "      <td>...</td>\n",
       "      <td>...</td>\n",
       "      <td>...</td>\n",
       "      <td>...</td>\n",
       "      <td>...</td>\n",
       "      <td>...</td>\n",
       "      <td>...</td>\n",
       "      <td>...</td>\n",
       "      <td>...</td>\n",
       "      <td>...</td>\n",
       "      <td>...</td>\n",
       "      <td>...</td>\n",
       "      <td>...</td>\n",
       "      <td>...</td>\n",
       "      <td>...</td>\n",
       "    </tr>\n",
       "    <tr>\n",
       "      <th>6795</th>\n",
       "      <td>1762</td>\n",
       "      <td>0</td>\n",
       "      <td>20909</td>\n",
       "      <td>0</td>\n",
       "      <td>0.9</td>\n",
       "      <td>360.0</td>\n",
       "      <td>2.43</td>\n",
       "      <td>68.0</td>\n",
       "      <td>3444.4</td>\n",
       "      <td>131.590</td>\n",
       "      <td>130.0</td>\n",
       "      <td>314.0</td>\n",
       "      <td>12.9</td>\n",
       "      <td>1.0</td>\n",
       "      <td>1</td>\n",
       "      <td>1</td>\n",
       "      <td>0</td>\n",
       "      <td>0</td>\n",
       "      <td>0</td>\n",
       "    </tr>\n",
       "    <tr>\n",
       "      <th>6796</th>\n",
       "      <td>2955</td>\n",
       "      <td>0</td>\n",
       "      <td>28650</td>\n",
       "      <td>0</td>\n",
       "      <td>0.3</td>\n",
       "      <td>312.0</td>\n",
       "      <td>2.99</td>\n",
       "      <td>43.0</td>\n",
       "      <td>1563.0</td>\n",
       "      <td>88.505</td>\n",
       "      <td>238.0</td>\n",
       "      <td>399.0</td>\n",
       "      <td>10.6</td>\n",
       "      <td>4.0</td>\n",
       "      <td>0</td>\n",
       "      <td>1</td>\n",
       "      <td>1</td>\n",
       "      <td>0</td>\n",
       "      <td>0</td>\n",
       "    </tr>\n",
       "    <tr>\n",
       "      <th>6797</th>\n",
       "      <td>584</td>\n",
       "      <td>0</td>\n",
       "      <td>24102</td>\n",
       "      <td>0</td>\n",
       "      <td>0.3</td>\n",
       "      <td>218.0</td>\n",
       "      <td>2.79</td>\n",
       "      <td>68.0</td>\n",
       "      <td>1563.0</td>\n",
       "      <td>26.350</td>\n",
       "      <td>123.0</td>\n",
       "      <td>103.0</td>\n",
       "      <td>9.3</td>\n",
       "      <td>1.0</td>\n",
       "      <td>0</td>\n",
       "      <td>0</td>\n",
       "      <td>0</td>\n",
       "      <td>1</td>\n",
       "      <td>0</td>\n",
       "    </tr>\n",
       "    <tr>\n",
       "      <th>6798</th>\n",
       "      <td>1426</td>\n",
       "      <td>1</td>\n",
       "      <td>19791</td>\n",
       "      <td>0</td>\n",
       "      <td>0.3</td>\n",
       "      <td>312.0</td>\n",
       "      <td>1.96</td>\n",
       "      <td>12.0</td>\n",
       "      <td>289.0</td>\n",
       "      <td>72.950</td>\n",
       "      <td>134.0</td>\n",
       "      <td>354.0</td>\n",
       "      <td>10.6</td>\n",
       "      <td>2.0</td>\n",
       "      <td>0</td>\n",
       "      <td>0</td>\n",
       "      <td>0</td>\n",
       "      <td>0</td>\n",
       "      <td>1</td>\n",
       "    </tr>\n",
       "    <tr>\n",
       "      <th>6799</th>\n",
       "      <td>125</td>\n",
       "      <td>2</td>\n",
       "      <td>25245</td>\n",
       "      <td>0</td>\n",
       "      <td>5.9</td>\n",
       "      <td>312.0</td>\n",
       "      <td>3.65</td>\n",
       "      <td>68.0</td>\n",
       "      <td>1563.0</td>\n",
       "      <td>26.350</td>\n",
       "      <td>69.0</td>\n",
       "      <td>288.0</td>\n",
       "      <td>11.1</td>\n",
       "      <td>4.0</td>\n",
       "      <td>0</td>\n",
       "      <td>0</td>\n",
       "      <td>1</td>\n",
       "      <td>0</td>\n",
       "      <td>0</td>\n",
       "    </tr>\n",
       "  </tbody>\n",
       "</table>\n",
       "<p>6800 rows × 19 columns</p>\n",
       "</div>"
      ],
      "text/plain": [
       "      N_Days  Status    Age  Edema  Bilirubin  Cholesterol  Albumin  Copper  \\\n",
       "0       1654       1  19581      0        0.3        279.0     2.96    84.0   \n",
       "1         41       0  22880      0        0.3        312.0     2.96    68.0   \n",
       "2        297       2  27957      0        0.3        328.0     2.64     4.0   \n",
       "3       1872       0  21111      0        0.3        302.0     2.02    49.0   \n",
       "4        939       1  18061      0        0.5        344.0     3.11    91.0   \n",
       "...      ...     ...    ...    ...        ...          ...      ...     ...   \n",
       "6795    1762       0  20909      0        0.9        360.0     2.43    68.0   \n",
       "6796    2955       0  28650      0        0.3        312.0     2.99    43.0   \n",
       "6797     584       0  24102      0        0.3        218.0     2.79    68.0   \n",
       "6798    1426       1  19791      0        0.3        312.0     1.96    12.0   \n",
       "6799     125       2  25245      0        5.9        312.0     3.65    68.0   \n",
       "\n",
       "      Alk_Phos     SGOT  Tryglicerides  Platelets  Prothrombin  Stage  Sex_M  \\\n",
       "0       1500.8   99.430          109.0      293.0         10.2    4.0      0   \n",
       "1       1835.4   26.350          131.0      308.0         10.8    1.0      0   \n",
       "2       1563.0   88.505          116.0      194.0         10.3    3.0      0   \n",
       "3       1563.0   26.350          128.0      285.0         10.5    4.0      0   \n",
       "4       1563.0  104.560          128.0      306.0         11.4    2.0      0   \n",
       "...        ...      ...            ...        ...          ...    ...    ...   \n",
       "6795    3444.4  131.590          130.0      314.0         12.9    1.0      1   \n",
       "6796    1563.0   88.505          238.0      399.0         10.6    4.0      0   \n",
       "6797    1563.0   26.350          123.0      103.0          9.3    1.0      0   \n",
       "6798     289.0   72.950          134.0      354.0         10.6    2.0      0   \n",
       "6799    1563.0   26.350           69.0      288.0         11.1    4.0      0   \n",
       "\n",
       "      Drug_Placebo  Ascites_Y  Hepatomegaly_Y  Spiders_Y  \n",
       "0                0          0               0          1  \n",
       "1                0          0               0          0  \n",
       "2                0          0               0          0  \n",
       "3                0          0               1          1  \n",
       "4                0          0               0          0  \n",
       "...            ...        ...             ...        ...  \n",
       "6795             1          0               0          0  \n",
       "6796             1          1               0          0  \n",
       "6797             0          0               1          0  \n",
       "6798             0          0               0          1  \n",
       "6799             0          1               0          0  \n",
       "\n",
       "[6800 rows x 19 columns]"
      ]
     },
     "execution_count": 18,
     "metadata": {},
     "output_type": "execute_result"
    }
   ],
   "source": [
    "#dfc=pd.get_dummies(dfc,columns=['Sex','Drug','Status','Ascites','Hepatomegaly','Spiders','Edema'],drop_first=True)\n",
    "dfc=pd.get_dummies(dfc,columns=['Sex','Drug','Ascites','Hepatomegaly','Spiders'],drop_first=True)\n",
    "le = LabelEncoder()\n",
    "dfc['Status'] = le.fit_transform(dfc['Status'])\n",
    "dfc['Edema'] = le.fit_transform(dfc['Edema'])\n",
    "dfc   "
   ]
  },
  {
   "cell_type": "markdown",
   "id": "4d590c1e",
   "metadata": {},
   "source": [
    "1. In column Sex_M; 0:Female & 1:Male \n",
    "2. In Drug_Placebo; 0:D-penicillamine & 1:Placebo\n",
    "3. In Status_CL and Status_D; 0-0:C(censored) & 1-0:CL(censored due to liver xt) & 0-1:D(death)\n",
    "4. In Ascites_Y, Hepatomegaly_Y, Spiders_Y;  0:no & 1:yes\n",
    "5. In Edema_S, Edema_Y; 0-0:N (no edema and no diuretic therapy for edema) & 1-0:S (edema present without diuretics, or edema resolved by diuretics) & 0-1:Y(edema despite diuretic therapy) "
   ]
  },
  {
   "cell_type": "markdown",
   "id": "bf961efe",
   "metadata": {},
   "source": [
    "#### Finding Correlation "
   ]
  },
  {
   "cell_type": "code",
   "execution_count": 19,
   "id": "b6c6ed08",
   "metadata": {},
   "outputs": [
    {
     "data": {
      "text/plain": [
       "<AxesSubplot:>"
      ]
     },
     "execution_count": 19,
     "metadata": {},
     "output_type": "execute_result"
    },
    {
     "data": {
      "image/png": "[encoded data removed]",
      "text/plain": [
       "<Figure size 1080x576 with 2 Axes>"
      ]
     },
     "metadata": {
      "needs_background": "light"
     },
     "output_type": "display_data"
    }
   ],
   "source": [
    "plt.figure(figsize=(15,8))\n",
    "mask =  np.triu(np.ones_like(dfc.corr()))\n",
    "sns.heatmap(dfc.corr(),mask=mask,annot=True,cmap='gist_ncar_r',linewidth=0.2)"
   ]
  },
  {
   "cell_type": "markdown",
   "id": "c0308c46",
   "metadata": {},
   "source": [
    "## Handling Test Data"
   ]
  },
  {
   "cell_type": "code",
   "execution_count": 20,
   "id": "6b2faf33",
   "metadata": {},
   "outputs": [],
   "source": [
    "df_test = pd.read_csv('test_dataset.csv')\n",
    "dft = df_test.copy()"
   ]
  },
  {
   "cell_type": "code",
   "execution_count": 21,
   "id": "2a1800ad",
   "metadata": {},
   "outputs": [],
   "source": [
    "dft=pd.get_dummies(dft,columns=['Sex','Drug','Ascites','Hepatomegaly','Spiders'],drop_first=True)\n",
    "dfc['Status'] = le.fit_transform(dfc['Status'])\n",
    "dfc['Edema'] = le.fit_transform(dfc['Edema'])\n",
    "dft.drop(['ID'],axis=1,inplace=True)"
   ]
  },
  {
   "cell_type": "code",
   "execution_count": 22,
   "id": "6da641c8",
   "metadata": {},
   "outputs": [
    {
     "data": {
      "text/html": [
       "<div>\n",
       "<style scoped>\n",
       "    .dataframe tbody tr th:only-of-type {\n",
       "        vertical-align: middle;\n",
       "    }\n",
       "\n",
       "    .dataframe tbody tr th {\n",
       "        vertical-align: top;\n",
       "    }\n",
       "\n",
       "    .dataframe thead th {\n",
       "        text-align: right;\n",
       "    }\n",
       "</style>\n",
       "<table border=\"1\" class=\"dataframe\">\n",
       "  <thead>\n",
       "    <tr style=\"text-align: right;\">\n",
       "      <th></th>\n",
       "      <th>N_Days</th>\n",
       "      <th>Status</th>\n",
       "      <th>Age</th>\n",
       "      <th>Edema</th>\n",
       "      <th>Bilirubin</th>\n",
       "      <th>Cholesterol</th>\n",
       "      <th>Albumin</th>\n",
       "      <th>Copper</th>\n",
       "      <th>Alk_Phos</th>\n",
       "      <th>SGOT</th>\n",
       "      <th>Tryglicerides</th>\n",
       "      <th>Platelets</th>\n",
       "      <th>Prothrombin</th>\n",
       "      <th>Sex_M</th>\n",
       "      <th>Drug_Placebo</th>\n",
       "      <th>Ascites_Y</th>\n",
       "      <th>Hepatomegaly_Y</th>\n",
       "      <th>Spiders_Y</th>\n",
       "    </tr>\n",
       "  </thead>\n",
       "  <tbody>\n",
       "    <tr>\n",
       "      <th>0</th>\n",
       "      <td>41</td>\n",
       "      <td>C</td>\n",
       "      <td>22553</td>\n",
       "      <td>N</td>\n",
       "      <td>1.4</td>\n",
       "      <td>247.0</td>\n",
       "      <td>3.62</td>\n",
       "      <td>NaN</td>\n",
       "      <td>NaN</td>\n",
       "      <td>108.65</td>\n",
       "      <td>NaN</td>\n",
       "      <td>169.0</td>\n",
       "      <td>11.6</td>\n",
       "      <td>0</td>\n",
       "      <td>1</td>\n",
       "      <td>0</td>\n",
       "      <td>0</td>\n",
       "      <td>0</td>\n",
       "    </tr>\n",
       "    <tr>\n",
       "      <th>1</th>\n",
       "      <td>1811</td>\n",
       "      <td>C</td>\n",
       "      <td>16223</td>\n",
       "      <td>N</td>\n",
       "      <td>0.3</td>\n",
       "      <td>311.0</td>\n",
       "      <td>2.80</td>\n",
       "      <td>92.0</td>\n",
       "      <td>1748.1</td>\n",
       "      <td>NaN</td>\n",
       "      <td>129.0</td>\n",
       "      <td>321.0</td>\n",
       "      <td>11.5</td>\n",
       "      <td>0</td>\n",
       "      <td>0</td>\n",
       "      <td>0</td>\n",
       "      <td>1</td>\n",
       "      <td>0</td>\n",
       "    </tr>\n",
       "    <tr>\n",
       "      <th>2</th>\n",
       "      <td>954</td>\n",
       "      <td>C</td>\n",
       "      <td>27100</td>\n",
       "      <td>N</td>\n",
       "      <td>0.4</td>\n",
       "      <td>NaN</td>\n",
       "      <td>3.56</td>\n",
       "      <td>NaN</td>\n",
       "      <td>NaN</td>\n",
       "      <td>43.52</td>\n",
       "      <td>NaN</td>\n",
       "      <td>296.0</td>\n",
       "      <td>10.3</td>\n",
       "      <td>0</td>\n",
       "      <td>0</td>\n",
       "      <td>0</td>\n",
       "      <td>0</td>\n",
       "      <td>0</td>\n",
       "    </tr>\n",
       "    <tr>\n",
       "      <th>3</th>\n",
       "      <td>1969</td>\n",
       "      <td>D</td>\n",
       "      <td>17039</td>\n",
       "      <td>N</td>\n",
       "      <td>1.2</td>\n",
       "      <td>NaN</td>\n",
       "      <td>3.16</td>\n",
       "      <td>NaN</td>\n",
       "      <td>617.1</td>\n",
       "      <td>113.76</td>\n",
       "      <td>NaN</td>\n",
       "      <td>125.0</td>\n",
       "      <td>10.9</td>\n",
       "      <td>0</td>\n",
       "      <td>1</td>\n",
       "      <td>0</td>\n",
       "      <td>1</td>\n",
       "      <td>0</td>\n",
       "    </tr>\n",
       "    <tr>\n",
       "      <th>4</th>\n",
       "      <td>2721</td>\n",
       "      <td>D</td>\n",
       "      <td>17738</td>\n",
       "      <td>N</td>\n",
       "      <td>3.2</td>\n",
       "      <td>NaN</td>\n",
       "      <td>2.36</td>\n",
       "      <td>89.0</td>\n",
       "      <td>1782.4</td>\n",
       "      <td>NaN</td>\n",
       "      <td>129.0</td>\n",
       "      <td>138.0</td>\n",
       "      <td>10.6</td>\n",
       "      <td>0</td>\n",
       "      <td>0</td>\n",
       "      <td>0</td>\n",
       "      <td>0</td>\n",
       "      <td>0</td>\n",
       "    </tr>\n",
       "    <tr>\n",
       "      <th>...</th>\n",
       "      <td>...</td>\n",
       "      <td>...</td>\n",
       "      <td>...</td>\n",
       "      <td>...</td>\n",
       "      <td>...</td>\n",
       "      <td>...</td>\n",
       "      <td>...</td>\n",
       "      <td>...</td>\n",
       "      <td>...</td>\n",
       "      <td>...</td>\n",
       "      <td>...</td>\n",
       "      <td>...</td>\n",
       "      <td>...</td>\n",
       "      <td>...</td>\n",
       "      <td>...</td>\n",
       "      <td>...</td>\n",
       "      <td>...</td>\n",
       "      <td>...</td>\n",
       "    </tr>\n",
       "    <tr>\n",
       "      <th>3195</th>\n",
       "      <td>4513</td>\n",
       "      <td>D</td>\n",
       "      <td>18293</td>\n",
       "      <td>S</td>\n",
       "      <td>0.3</td>\n",
       "      <td>NaN</td>\n",
       "      <td>2.75</td>\n",
       "      <td>NaN</td>\n",
       "      <td>2063.9</td>\n",
       "      <td>111.68</td>\n",
       "      <td>NaN</td>\n",
       "      <td>563.0</td>\n",
       "      <td>10.9</td>\n",
       "      <td>1</td>\n",
       "      <td>1</td>\n",
       "      <td>0</td>\n",
       "      <td>0</td>\n",
       "      <td>0</td>\n",
       "    </tr>\n",
       "    <tr>\n",
       "      <th>3196</th>\n",
       "      <td>3281</td>\n",
       "      <td>D</td>\n",
       "      <td>12149</td>\n",
       "      <td>N</td>\n",
       "      <td>4.7</td>\n",
       "      <td>422.0</td>\n",
       "      <td>4.30</td>\n",
       "      <td>106.0</td>\n",
       "      <td>1203.2</td>\n",
       "      <td>32.49</td>\n",
       "      <td>166.0</td>\n",
       "      <td>NaN</td>\n",
       "      <td>10.2</td>\n",
       "      <td>0</td>\n",
       "      <td>0</td>\n",
       "      <td>0</td>\n",
       "      <td>0</td>\n",
       "      <td>1</td>\n",
       "    </tr>\n",
       "    <tr>\n",
       "      <th>3197</th>\n",
       "      <td>1933</td>\n",
       "      <td>D</td>\n",
       "      <td>17084</td>\n",
       "      <td>N</td>\n",
       "      <td>0.8</td>\n",
       "      <td>408.0</td>\n",
       "      <td>3.56</td>\n",
       "      <td>9.0</td>\n",
       "      <td>2358.1</td>\n",
       "      <td>124.70</td>\n",
       "      <td>131.0</td>\n",
       "      <td>234.0</td>\n",
       "      <td>11.6</td>\n",
       "      <td>0</td>\n",
       "      <td>0</td>\n",
       "      <td>0</td>\n",
       "      <td>1</td>\n",
       "      <td>0</td>\n",
       "    </tr>\n",
       "    <tr>\n",
       "      <th>3198</th>\n",
       "      <td>2350</td>\n",
       "      <td>D</td>\n",
       "      <td>28650</td>\n",
       "      <td>Y</td>\n",
       "      <td>15.3</td>\n",
       "      <td>258.0</td>\n",
       "      <td>3.21</td>\n",
       "      <td>32.0</td>\n",
       "      <td>1472.7</td>\n",
       "      <td>113.24</td>\n",
       "      <td>130.0</td>\n",
       "      <td>110.0</td>\n",
       "      <td>10.3</td>\n",
       "      <td>1</td>\n",
       "      <td>1</td>\n",
       "      <td>0</td>\n",
       "      <td>0</td>\n",
       "      <td>0</td>\n",
       "    </tr>\n",
       "    <tr>\n",
       "      <th>3199</th>\n",
       "      <td>2691</td>\n",
       "      <td>D</td>\n",
       "      <td>13765</td>\n",
       "      <td>N</td>\n",
       "      <td>0.3</td>\n",
       "      <td>NaN</td>\n",
       "      <td>3.42</td>\n",
       "      <td>63.0</td>\n",
       "      <td>1598.8</td>\n",
       "      <td>NaN</td>\n",
       "      <td>126.0</td>\n",
       "      <td>103.0</td>\n",
       "      <td>10.8</td>\n",
       "      <td>0</td>\n",
       "      <td>0</td>\n",
       "      <td>0</td>\n",
       "      <td>0</td>\n",
       "      <td>0</td>\n",
       "    </tr>\n",
       "  </tbody>\n",
       "</table>\n",
       "<p>3200 rows × 18 columns</p>\n",
       "</div>"
      ],
      "text/plain": [
       "      N_Days Status    Age Edema  Bilirubin  Cholesterol  Albumin  Copper  \\\n",
       "0         41      C  22553     N        1.4        247.0     3.62     NaN   \n",
       "1       1811      C  16223     N        0.3        311.0     2.80    92.0   \n",
       "2        954      C  27100     N        0.4          NaN     3.56     NaN   \n",
       "3       1969      D  17039     N        1.2          NaN     3.16     NaN   \n",
       "4       2721      D  17738     N        3.2          NaN     2.36    89.0   \n",
       "...      ...    ...    ...   ...        ...          ...      ...     ...   \n",
       "3195    4513      D  18293     S        0.3          NaN     2.75     NaN   \n",
       "3196    3281      D  12149     N        4.7        422.0     4.30   106.0   \n",
       "3197    1933      D  17084     N        0.8        408.0     3.56     9.0   \n",
       "3198    2350      D  28650     Y       15.3        258.0     3.21    32.0   \n",
       "3199    2691      D  13765     N        0.3          NaN     3.42    63.0   \n",
       "\n",
       "      Alk_Phos    SGOT  Tryglicerides  Platelets  Prothrombin  Sex_M  \\\n",
       "0          NaN  108.65            NaN      169.0         11.6      0   \n",
       "1       1748.1     NaN          129.0      321.0         11.5      0   \n",
       "2          NaN   43.52            NaN      296.0         10.3      0   \n",
       "3        617.1  113.76            NaN      125.0         10.9      0   \n",
       "4       1782.4     NaN          129.0      138.0         10.6      0   \n",
       "...        ...     ...            ...        ...          ...    ...   \n",
       "3195    2063.9  111.68            NaN      563.0         10.9      1   \n",
       "3196    1203.2   32.49          166.0        NaN         10.2      0   \n",
       "3197    2358.1  124.70          131.0      234.0         11.6      0   \n",
       "3198    1472.7  113.24          130.0      110.0         10.3      1   \n",
       "3199    1598.8     NaN          126.0      103.0         10.8      0   \n",
       "\n",
       "      Drug_Placebo  Ascites_Y  Hepatomegaly_Y  Spiders_Y  \n",
       "0                1          0               0          0  \n",
       "1                0          0               1          0  \n",
       "2                0          0               0          0  \n",
       "3                1          0               1          0  \n",
       "4                0          0               0          0  \n",
       "...            ...        ...             ...        ...  \n",
       "3195             1          0               0          0  \n",
       "3196             0          0               0          1  \n",
       "3197             0          0               1          0  \n",
       "3198             1          0               0          0  \n",
       "3199             0          0               0          0  \n",
       "\n",
       "[3200 rows x 18 columns]"
      ]
     },
     "execution_count": 22,
     "metadata": {},
     "output_type": "execute_result"
    }
   ],
   "source": [
    "dft"
   ]
  },
  {
   "cell_type": "code",
   "execution_count": 23,
   "id": "fb4d74ef",
   "metadata": {},
   "outputs": [
    {
     "data": {
      "text/plain": [
       "N_Days               0\n",
       "Status               0\n",
       "Age                  0\n",
       "Edema                0\n",
       "Bilirubin            0\n",
       "Cholesterol       1435\n",
       "Albumin              0\n",
       "Copper            1006\n",
       "Alk_Phos          1168\n",
       "SGOT               987\n",
       "Tryglicerides     1286\n",
       "Platelets          164\n",
       "Prothrombin         64\n",
       "Sex_M                0\n",
       "Drug_Placebo         0\n",
       "Ascites_Y            0\n",
       "Hepatomegaly_Y       0\n",
       "Spiders_Y            0\n",
       "dtype: int64"
      ]
     },
     "execution_count": 23,
     "metadata": {},
     "output_type": "execute_result"
    }
   ],
   "source": [
    "dft.isnull().sum()"
   ]
  },
  {
   "cell_type": "code",
   "execution_count": 24,
   "id": "3f71bcbb",
   "metadata": {},
   "outputs": [],
   "source": [
    "#dft[dft.Cholesterol>700].value_counts()"
   ]
  },
  {
   "cell_type": "code",
   "execution_count": 25,
   "id": "828bd49e",
   "metadata": {},
   "outputs": [],
   "source": [
    "#dft.describe()"
   ]
  },
  {
   "cell_type": "markdown",
   "id": "0d6e4b59",
   "metadata": {},
   "source": [
    "### Feature Scaling "
   ]
  },
  {
   "cell_type": "code",
   "execution_count": 26,
   "id": "6ff3a6ea",
   "metadata": {},
   "outputs": [],
   "source": [
    "from sklearn.preprocessing import StandardScaler\n",
    "sd =StandardScaler()\n",
    "col_to_be_std = ['N_Days','Age','Bilirubin','Cholesterol','Albumin','Copper','Alk_Phos','SGOT','Tryglicerides','Prothrombin']\n",
    "dfc[col_to_be_std]= sd.fit_transform(dfc[col_to_be_std])"
   ]
  },
  {
   "cell_type": "code",
   "execution_count": 27,
   "id": "7dfcbd00",
   "metadata": {},
   "outputs": [],
   "source": [
    "#dfc"
   ]
  },
  {
   "cell_type": "markdown",
   "id": "7fd6f909",
   "metadata": {},
   "source": [
    "# Training the model"
   ]
  },
  {
   "cell_type": "code",
   "execution_count": 28,
   "id": "dd508b7e",
   "metadata": {},
   "outputs": [],
   "source": [
    "x = dfc.drop('Stage',axis=1)\n",
    "y = dfc['Stage']\n",
    "from sklearn.model_selection import train_test_split\n",
    "x_train,x_test,y_train,y_test = train_test_split(x,y,test_size=0.2,random_state=0)"
   ]
  },
  {
   "cell_type": "markdown",
   "id": "6c886e18",
   "metadata": {},
   "source": [
    "### Logistic Regression"
   ]
  },
  {
   "cell_type": "code",
   "execution_count": 29,
   "id": "a63b1bf1",
   "metadata": {},
   "outputs": [
    {
     "name": "stdout",
     "output_type": "stream",
     "text": [
      "Accuracy using Logistic Regression: 52.721\n"
     ]
    },
    {
     "name": "stderr",
     "output_type": "stream",
     "text": [
      "c:\\users\\chira\\appdata\\local\\programs\\python\\python39\\lib\\site-packages\\sklearn\\linear_model\\_logistic.py:763: ConvergenceWarning: lbfgs failed to converge (status=1):\n",
      "STOP: TOTAL NO. of ITERATIONS REACHED LIMIT.\n",
      "\n",
      "Increase the number of iterations (max_iter) or scale the data as shown in:\n",
      "    https://scikit-learn.org/stable/modules/preprocessing.html\n",
      "Please also refer to the documentation for alternative solver options:\n",
      "    https://scikit-learn.org/stable/modules/linear_model.html#logistic-regression\n",
      "  n_iter_i = _check_optimize_result(\n"
     ]
    }
   ],
   "source": [
    "from sklearn.linear_model import LogisticRegression\n",
    "from sklearn import metrics\n",
    "logreg = LogisticRegression()\n",
    "logreg.fit(x_train, y_train)\n",
    "pred_log = logreg.predict(x_test)\n",
    "acc_log = round(metrics.accuracy_score(y_test,pred_log) * 100, 3)\n",
    "print('Accuracy using Logistic Regression:',acc_log)"
   ]
  },
  {
   "cell_type": "code",
   "execution_count": 30,
   "id": "f12b5986",
   "metadata": {},
   "outputs": [
    {
     "name": "stdout",
     "output_type": "stream",
     "text": [
      "              precision    recall  f1-score   support\n",
      "\n",
      "         1.0       0.00      0.00      0.00        87\n",
      "         2.0       0.00      0.00      0.00       310\n",
      "         3.0       0.00      0.00      0.00       246\n",
      "         4.0       0.53      1.00      0.69       717\n",
      "\n",
      "    accuracy                           0.53      1360\n",
      "   macro avg       0.13      0.25      0.17      1360\n",
      "weighted avg       0.28      0.53      0.36      1360\n",
      "\n"
     ]
    },
    {
     "name": "stderr",
     "output_type": "stream",
     "text": [
      "c:\\users\\chira\\appdata\\local\\programs\\python\\python39\\lib\\site-packages\\sklearn\\metrics\\_classification.py:1248: UndefinedMetricWarning: Precision and F-score are ill-defined and being set to 0.0 in labels with no predicted samples. Use `zero_division` parameter to control this behavior.\n",
      "  _warn_prf(average, modifier, msg_start, len(result))\n",
      "c:\\users\\chira\\appdata\\local\\programs\\python\\python39\\lib\\site-packages\\sklearn\\metrics\\_classification.py:1248: UndefinedMetricWarning: Precision and F-score are ill-defined and being set to 0.0 in labels with no predicted samples. Use `zero_division` parameter to control this behavior.\n",
      "  _warn_prf(average, modifier, msg_start, len(result))\n",
      "c:\\users\\chira\\appdata\\local\\programs\\python\\python39\\lib\\site-packages\\sklearn\\metrics\\_classification.py:1248: UndefinedMetricWarning: Precision and F-score are ill-defined and being set to 0.0 in labels with no predicted samples. Use `zero_division` parameter to control this behavior.\n",
      "  _warn_prf(average, modifier, msg_start, len(result))\n"
     ]
    }
   ],
   "source": [
    "from sklearn.metrics import confusion_matrix, classification_report\n",
    "print(classification_report(y_test,pred_log))"
   ]
  },
  {
   "cell_type": "code",
   "execution_count": 31,
   "id": "4707915e",
   "metadata": {},
   "outputs": [],
   "source": [
    "from sklearn.model_selection import GridSearchCV\n",
    "params_list = {'C': [1.0,10.0],'class_weight': [None],'dual': [False],'fit_intercept': [True],'intercept_scaling': [1],'l1_ratio': [None],\n",
    "               'max_iter': [100],'n_jobs': [None],'penalty': ['l1', 'l2', 'elasticnet', 'none'],'random_state': [None],\n",
    "               'tol': [0.0001],'verbose': [0],'warm_start': [False]}"
   ]
  },
  {
   "cell_type": "code",
   "execution_count": 32,
   "id": "d94f4f7a",
   "metadata": {},
   "outputs": [
    {
     "name": "stderr",
     "output_type": "stream",
     "text": [
      "c:\\users\\chira\\appdata\\local\\programs\\python\\python39\\lib\\site-packages\\sklearn\\model_selection\\_search.py:922: UserWarning: One or more of the test scores are non-finite: [       nan 0.51231618        nan 0.5125            nan 0.51213235\n",
      "        nan 0.5125    ]\n",
      "  warnings.warn(\n"
     ]
    },
    {
     "name": "stdout",
     "output_type": "stream",
     "text": [
      "Accuracy using GridSearch CV on LR: 52.721\n"
     ]
    },
    {
     "name": "stderr",
     "output_type": "stream",
     "text": [
      "c:\\users\\chira\\appdata\\local\\programs\\python\\python39\\lib\\site-packages\\sklearn\\linear_model\\_logistic.py:763: ConvergenceWarning: lbfgs failed to converge (status=1):\n",
      "STOP: TOTAL NO. of ITERATIONS REACHED LIMIT.\n",
      "\n",
      "Increase the number of iterations (max_iter) or scale the data as shown in:\n",
      "    https://scikit-learn.org/stable/modules/preprocessing.html\n",
      "Please also refer to the documentation for alternative solver options:\n",
      "    https://scikit-learn.org/stable/modules/linear_model.html#logistic-regression\n",
      "  n_iter_i = _check_optimize_result(\n"
     ]
    }
   ],
   "source": [
    "grid_log = GridSearchCV(LogisticRegression(),params_list, cv=5,n_jobs=-1)\n",
    "grid_log.fit(x_train, y_train)\n",
    "pred_grid_log = grid_log.predict(x_test)\n",
    "acc_grid_log = round(metrics.accuracy_score(y_test,pred_grid_log) * 100, 3)\n",
    "print('Accuracy using GridSearch CV on LR:',acc_grid_log)"
   ]
  },
  {
   "cell_type": "code",
   "execution_count": 33,
   "id": "f4d6bd13",
   "metadata": {},
   "outputs": [
    {
     "name": "stdout",
     "output_type": "stream",
     "text": [
      "              precision    recall  f1-score   support\n",
      "\n",
      "         1.0       0.00      0.00      0.00        87\n",
      "         2.0       0.00      0.00      0.00       310\n",
      "         3.0       0.00      0.00      0.00       246\n",
      "         4.0       0.53      1.00      0.69       717\n",
      "\n",
      "    accuracy                           0.53      1360\n",
      "   macro avg       0.13      0.25      0.17      1360\n",
      "weighted avg       0.28      0.53      0.36      1360\n",
      "\n"
     ]
    },
    {
     "name": "stderr",
     "output_type": "stream",
     "text": [
      "c:\\users\\chira\\appdata\\local\\programs\\python\\python39\\lib\\site-packages\\sklearn\\metrics\\_classification.py:1248: UndefinedMetricWarning: Precision and F-score are ill-defined and being set to 0.0 in labels with no predicted samples. Use `zero_division` parameter to control this behavior.\n",
      "  _warn_prf(average, modifier, msg_start, len(result))\n",
      "c:\\users\\chira\\appdata\\local\\programs\\python\\python39\\lib\\site-packages\\sklearn\\metrics\\_classification.py:1248: UndefinedMetricWarning: Precision and F-score are ill-defined and being set to 0.0 in labels with no predicted samples. Use `zero_division` parameter to control this behavior.\n",
      "  _warn_prf(average, modifier, msg_start, len(result))\n",
      "c:\\users\\chira\\appdata\\local\\programs\\python\\python39\\lib\\site-packages\\sklearn\\metrics\\_classification.py:1248: UndefinedMetricWarning: Precision and F-score are ill-defined and being set to 0.0 in labels with no predicted samples. Use `zero_division` parameter to control this behavior.\n",
      "  _warn_prf(average, modifier, msg_start, len(result))\n"
     ]
    }
   ],
   "source": [
    "print(classification_report(y_test,pred_grid_log))"
   ]
  },
  {
   "cell_type": "markdown",
   "id": "82480c51",
   "metadata": {},
   "source": [
    "### Support Vector Classifier "
   ]
  },
  {
   "cell_type": "code",
   "execution_count": 34,
   "id": "f0e28285",
   "metadata": {},
   "outputs": [
    {
     "name": "stdout",
     "output_type": "stream",
     "text": [
      "Accuracy using Support Vector Classifier: 52.721\n"
     ]
    }
   ],
   "source": [
    "from sklearn.svm import SVC, LinearSVC\n",
    "svc = SVC()\n",
    "svc.fit(x_train, y_train)\n",
    "pred_svc = svc.predict(x_test)\n",
    "acc_svc = round(metrics.accuracy_score(y_test,pred_svc) * 100, 3)\n",
    "print('Accuracy using Support Vector Classifier:',acc_svc)"
   ]
  },
  {
   "cell_type": "code",
   "execution_count": 35,
   "id": "ad2a41a8",
   "metadata": {},
   "outputs": [
    {
     "name": "stdout",
     "output_type": "stream",
     "text": [
      "              precision    recall  f1-score   support\n",
      "\n",
      "         1.0       0.00      0.00      0.00        87\n",
      "         2.0       0.00      0.00      0.00       310\n",
      "         3.0       0.00      0.00      0.00       246\n",
      "         4.0       0.53      1.00      0.69       717\n",
      "\n",
      "    accuracy                           0.53      1360\n",
      "   macro avg       0.13      0.25      0.17      1360\n",
      "weighted avg       0.28      0.53      0.36      1360\n",
      "\n"
     ]
    },
    {
     "name": "stderr",
     "output_type": "stream",
     "text": [
      "c:\\users\\chira\\appdata\\local\\programs\\python\\python39\\lib\\site-packages\\sklearn\\metrics\\_classification.py:1248: UndefinedMetricWarning: Precision and F-score are ill-defined and being set to 0.0 in labels with no predicted samples. Use `zero_division` parameter to control this behavior.\n",
      "  _warn_prf(average, modifier, msg_start, len(result))\n",
      "c:\\users\\chira\\appdata\\local\\programs\\python\\python39\\lib\\site-packages\\sklearn\\metrics\\_classification.py:1248: UndefinedMetricWarning: Precision and F-score are ill-defined and being set to 0.0 in labels with no predicted samples. Use `zero_division` parameter to control this behavior.\n",
      "  _warn_prf(average, modifier, msg_start, len(result))\n",
      "c:\\users\\chira\\appdata\\local\\programs\\python\\python39\\lib\\site-packages\\sklearn\\metrics\\_classification.py:1248: UndefinedMetricWarning: Precision and F-score are ill-defined and being set to 0.0 in labels with no predicted samples. Use `zero_division` parameter to control this behavior.\n",
      "  _warn_prf(average, modifier, msg_start, len(result))\n"
     ]
    }
   ],
   "source": [
    "print(classification_report(y_test,pred_svc))"
   ]
  },
  {
   "cell_type": "markdown",
   "id": "3c74e451",
   "metadata": {},
   "source": [
    "### K Nearest Neighbour Classifier "
   ]
  },
  {
   "cell_type": "code",
   "execution_count": 36,
   "id": "c678cd5b",
   "metadata": {},
   "outputs": [
    {
     "data": {
      "text/plain": [
       "Text(0, 0.5, 'accuracy_rate')"
      ]
     },
     "execution_count": 36,
     "metadata": {},
     "output_type": "execute_result"
    },
    {
     "data": {
      "image/png": "[encoded data removed]",
      "text/plain": [
       "<Figure size 432x288 with 1 Axes>"
      ]
     },
     "metadata": {
      "needs_background": "light"
     },
     "output_type": "display_data"
    }
   ],
   "source": [
    "from sklearn.neighbors import KNeighborsClassifier\n",
    "accuracy_rate = []\n",
    "from sklearn import metrics\n",
    "for i in range (1,30):\n",
    "    knn = KNeighborsClassifier(n_neighbors=i).fit(x_train,y_train)\n",
    "    pred_knn = knn.predict(x_test)\n",
    "    accuracy_rate.append(metrics.accuracy_score(y_test,pred_knn))\n",
    "\n",
    "plt.plot(range(1,30),accuracy_rate,'b-o')\n",
    "plt.xlabel('k')\n",
    "plt.ylabel('accuracy_rate')"
   ]
  },
  {
   "cell_type": "code",
   "execution_count": 37,
   "id": "b366caa4",
   "metadata": {},
   "outputs": [
    {
     "name": "stdout",
     "output_type": "stream",
     "text": [
      "Accuracy using K Neighbour Classifier: 50.662\n"
     ]
    }
   ],
   "source": [
    "knn = KNeighborsClassifier(n_neighbors = 30)\n",
    "knn.fit(x_train, y_train)\n",
    "pred_knn = knn.predict(x_test)\n",
    "acc_knn = round(metrics.accuracy_score(y_test,pred_knn) * 100, 3)\n",
    "print('Accuracy using K Neighbour Classifier:',acc_knn)"
   ]
  },
  {
   "cell_type": "code",
   "execution_count": 38,
   "id": "90adcd86",
   "metadata": {},
   "outputs": [
    {
     "name": "stdout",
     "output_type": "stream",
     "text": [
      "              precision    recall  f1-score   support\n",
      "\n",
      "         1.0       0.00      0.00      0.00        87\n",
      "         2.0       0.23      0.03      0.05       310\n",
      "         3.0       0.21      0.03      0.05       246\n",
      "         4.0       0.52      0.94      0.67       717\n",
      "\n",
      "    accuracy                           0.51      1360\n",
      "   macro avg       0.24      0.25      0.19      1360\n",
      "weighted avg       0.37      0.51      0.37      1360\n",
      "\n"
     ]
    },
    {
     "name": "stderr",
     "output_type": "stream",
     "text": [
      "c:\\users\\chira\\appdata\\local\\programs\\python\\python39\\lib\\site-packages\\sklearn\\metrics\\_classification.py:1248: UndefinedMetricWarning: Precision and F-score are ill-defined and being set to 0.0 in labels with no predicted samples. Use `zero_division` parameter to control this behavior.\n",
      "  _warn_prf(average, modifier, msg_start, len(result))\n",
      "c:\\users\\chira\\appdata\\local\\programs\\python\\python39\\lib\\site-packages\\sklearn\\metrics\\_classification.py:1248: UndefinedMetricWarning: Precision and F-score are ill-defined and being set to 0.0 in labels with no predicted samples. Use `zero_division` parameter to control this behavior.\n",
      "  _warn_prf(average, modifier, msg_start, len(result))\n",
      "c:\\users\\chira\\appdata\\local\\programs\\python\\python39\\lib\\site-packages\\sklearn\\metrics\\_classification.py:1248: UndefinedMetricWarning: Precision and F-score are ill-defined and being set to 0.0 in labels with no predicted samples. Use `zero_division` parameter to control this behavior.\n",
      "  _warn_prf(average, modifier, msg_start, len(result))\n"
     ]
    }
   ],
   "source": [
    "print(classification_report(y_test,pred_knn))"
   ]
  },
  {
   "cell_type": "markdown",
   "id": "e6ed39a2",
   "metadata": {},
   "source": [
    "### Decision Tree "
   ]
  },
  {
   "cell_type": "code",
   "execution_count": 69,
   "id": "d0d2d81f",
   "metadata": {},
   "outputs": [
    {
     "name": "stdout",
     "output_type": "stream",
     "text": [
      "Accuracy using Decision Tree: 37.132\n"
     ]
    }
   ],
   "source": [
    "from sklearn.tree import DecisionTreeClassifier\n",
    "decision_tree = DecisionTreeClassifier(random_state=100)\n",
    "decision_tree.fit(x_train, y_train)\n",
    "pred_decision_tree = decision_tree.predict(x_test)\n",
    "acc_decision_tree  = round(metrics.accuracy_score(y_test,pred_decision_tree ) * 100, 3)\n",
    "print('Accuracy using Decision Tree:',acc_decision_tree)"
   ]
  },
  {
   "cell_type": "code",
   "execution_count": 70,
   "id": "3c137aad",
   "metadata": {},
   "outputs": [
    {
     "name": "stdout",
     "output_type": "stream",
     "text": [
      "              precision    recall  f1-score   support\n",
      "\n",
      "         1.0       0.08      0.10      0.09        87\n",
      "         2.0       0.26      0.30      0.28       310\n",
      "         3.0       0.21      0.22      0.22       246\n",
      "         4.0       0.55      0.49      0.51       717\n",
      "\n",
      "    accuracy                           0.37      1360\n",
      "   macro avg       0.28      0.28      0.28      1360\n",
      "weighted avg       0.39      0.37      0.38      1360\n",
      "\n"
     ]
    }
   ],
   "source": [
    "print(classification_report(y_test,pred_decision_tree))"
   ]
  },
  {
   "cell_type": "markdown",
   "id": "0e9911b4",
   "metadata": {},
   "source": [
    "### Random Forest "
   ]
  },
  {
   "cell_type": "code",
   "execution_count": 99,
   "id": "b2ebc6f8",
   "metadata": {},
   "outputs": [
    {
     "name": "stdout",
     "output_type": "stream",
     "text": [
      "Accuracy using Random Forest: 45.515\n"
     ]
    }
   ],
   "source": [
    "from sklearn.ensemble import RandomForestClassifier\n",
    "random_forest = RandomForestClassifier(n_estimators=10,random_state=100)\n",
    "random_forest.fit(x_train, y_train)\n",
    "pred_random_forest = random_forest.predict(x_test)\n",
    "acc_random_forest  = round(metrics.accuracy_score(y_test,pred_random_forest) * 100, 3)\n",
    "print('Accuracy using Random Forest:',acc_random_forest )"
   ]
  },
  {
   "cell_type": "code",
   "execution_count": 100,
   "id": "e3e27296",
   "metadata": {},
   "outputs": [
    {
     "name": "stdout",
     "output_type": "stream",
     "text": [
      "              precision    recall  f1-score   support\n",
      "\n",
      "         1.0       0.06      0.01      0.02        87\n",
      "         2.0       0.27      0.20      0.23       310\n",
      "         3.0       0.22      0.13      0.17       246\n",
      "         4.0       0.54      0.73      0.62       717\n",
      "\n",
      "    accuracy                           0.46      1360\n",
      "   macro avg       0.27      0.27      0.26      1360\n",
      "weighted avg       0.39      0.46      0.41      1360\n",
      "\n"
     ]
    }
   ],
   "source": [
    "print(classification_report(y_test,pred_random_forest))"
   ]
  },
  {
   "cell_type": "markdown",
   "id": "8a9d7a0e",
   "metadata": {},
   "source": [
    "### Naive Bayes "
   ]
  },
  {
   "cell_type": "code",
   "execution_count": 43,
   "id": "047fbcae",
   "metadata": {},
   "outputs": [],
   "source": [
    "#from sklearn.naive_bayes import MultinomialNB\n",
    "#clf = MultinomialNB().fit(x_train, y_train)\n",
    "#clf.fit(x_train, y_train)\n",
    "#pred_naive_bayes = clf.predict(x_test)\n",
    "#acc_naive_bayes  = round(metrics.accuracy_score(y_test,pred_naive_bayes) * 100, 3)\n",
    "#print('Accuracy using naive bayes:',acc_naive_bayes )"
   ]
  },
  {
   "cell_type": "markdown",
   "id": "82272ea0",
   "metadata": {},
   "source": [
    "### XGBoost"
   ]
  },
  {
   "cell_type": "code",
   "execution_count": 125,
   "id": "473bec07",
   "metadata": {},
   "outputs": [
    {
     "name": "stderr",
     "output_type": "stream",
     "text": [
      "c:\\users\\chira\\appdata\\local\\programs\\python\\python39\\lib\\site-packages\\xgboost\\sklearn.py:1146: UserWarning: The use of label encoder in XGBClassifier is deprecated and will be removed in a future release. To remove this warning, do the following: 1) Pass option use_label_encoder=False when constructing XGBClassifier object; and 2) Encode your labels (y) as integers starting with 0, i.e. 0, 1, 2, ..., [num_class - 1].\n",
      "  warnings.warn(label_encoder_deprecation_msg, UserWarning)\n"
     ]
    },
    {
     "name": "stdout",
     "output_type": "stream",
     "text": [
      "[08:10:36] WARNING: C:/Users/Administrator/workspace/xgboost-win64_release_1.4.0/src/learner.cc:1095: Starting in XGBoost 1.3.0, the default evaluation metric used with the objective 'multi:softprob' was changed from 'merror' to 'mlogloss'. Explicitly set eval_metric if you'd like to restore the old behavior.\n",
      "Accuracy using naive bayes: 45.882\n"
     ]
    }
   ],
   "source": [
    "import xgboost as xgb\n",
    "xgb = xgb.XGBClassifier(base_score=0.5, booster='gbtree', colsample_bylevel=1,\n",
    "              colsample_bynode=1, colsample_bytree=1, gamma=0, gpu_id=-1,\n",
    "              importance_type='gain', interaction_constraints='',\n",
    "              learning_rate=0.300000012, max_delta_step=0, max_depth=3,\n",
    "              min_child_weight=1, monotone_constraints='()',\n",
    "              n_estimators=600, n_jobs=-1, num_parallel_tree=1,\n",
    "              objective='multi:softprob', random_state=0, reg_alpha=0,\n",
    "              reg_lambda=1, scale_pos_weight=None, subsample=1,\n",
    "              tree_method='exact', validate_parameters=1, verbosity=None)\n",
    "xgb.fit(x_train, y_train)\n",
    "pred_xgb = xgb.predict(x_test)\n",
    "acc_xgb  = round(metrics.accuracy_score(y_test,pred_xgb) * 100, 3)\n",
    "print('Accuracy using naive bayes:',acc_xgb )"
   ]
  },
  {
   "cell_type": "code",
   "execution_count": 126,
   "id": "0648c1a5",
   "metadata": {},
   "outputs": [
    {
     "name": "stdout",
     "output_type": "stream",
     "text": [
      "              precision    recall  f1-score   support\n",
      "\n",
      "         1.0       0.10      0.02      0.04        87\n",
      "         2.0       0.30      0.15      0.20       310\n",
      "         3.0       0.15      0.09      0.11       246\n",
      "         4.0       0.53      0.77      0.63       717\n",
      "\n",
      "    accuracy                           0.46      1360\n",
      "   macro avg       0.27      0.26      0.25      1360\n",
      "weighted avg       0.38      0.46      0.40      1360\n",
      "\n"
     ]
    }
   ],
   "source": [
    "print(classification_report(y_test,pred_xgb))"
   ]
  },
  {
   "cell_type": "markdown",
   "id": "a66d47f9",
   "metadata": {},
   "source": [
    "### Predictions on given Dataset "
   ]
  },
  {
   "cell_type": "code",
   "execution_count": 46,
   "id": "aeb5805b",
   "metadata": {},
   "outputs": [
    {
     "ename": "ValueError",
     "evalue": "could not convert string to float: 'C'",
     "output_type": "error",
     "traceback": [
      "\u001b[1;31m---------------------------------------------------------------------------\u001b[0m",
      "\u001b[1;31mValueError\u001b[0m                                Traceback (most recent call last)",
      "\u001b[1;32m~\\AppData\\Local\\Temp/ipykernel_11168/1442523919.py\u001b[0m in \u001b[0;36m<module>\u001b[1;34m\u001b[0m\n\u001b[1;32m----> 1\u001b[1;33m \u001b[0mpredictions\u001b[0m \u001b[1;33m=\u001b[0m \u001b[0mxgb\u001b[0m\u001b[1;33m.\u001b[0m\u001b[0mpredict\u001b[0m\u001b[1;33m(\u001b[0m\u001b[0mdft\u001b[0m\u001b[1;33m)\u001b[0m\u001b[1;33m\u001b[0m\u001b[1;33m\u001b[0m\u001b[0m\n\u001b[0m",
      "\u001b[1;32mc:\\users\\chira\\appdata\\local\\programs\\python\\python39\\lib\\site-packages\\xgboost\\sklearn.py\u001b[0m in \u001b[0;36mpredict\u001b[1;34m(self, X, output_margin, ntree_limit, validate_features, base_margin, iteration_range)\u001b[0m\n\u001b[0;32m   1207\u001b[0m         \u001b[0miteration_range\u001b[0m\u001b[1;33m:\u001b[0m \u001b[0mOptional\u001b[0m\u001b[1;33m[\u001b[0m\u001b[0mTuple\u001b[0m\u001b[1;33m[\u001b[0m\u001b[0mint\u001b[0m\u001b[1;33m,\u001b[0m \u001b[0mint\u001b[0m\u001b[1;33m]\u001b[0m\u001b[1;33m]\u001b[0m \u001b[1;33m=\u001b[0m \u001b[1;32mNone\u001b[0m\u001b[1;33m,\u001b[0m\u001b[1;33m\u001b[0m\u001b[1;33m\u001b[0m\u001b[0m\n\u001b[0;32m   1208\u001b[0m     ):\n\u001b[1;32m-> 1209\u001b[1;33m         class_probs = super().predict(\n\u001b[0m\u001b[0;32m   1210\u001b[0m             \u001b[0mX\u001b[0m\u001b[1;33m=\u001b[0m\u001b[0mX\u001b[0m\u001b[1;33m,\u001b[0m\u001b[1;33m\u001b[0m\u001b[1;33m\u001b[0m\u001b[0m\n\u001b[0;32m   1211\u001b[0m             \u001b[0moutput_margin\u001b[0m\u001b[1;33m=\u001b[0m\u001b[0moutput_margin\u001b[0m\u001b[1;33m,\u001b[0m\u001b[1;33m\u001b[0m\u001b[1;33m\u001b[0m\u001b[0m\n",
      "\u001b[1;32mc:\\users\\chira\\appdata\\local\\programs\\python\\python39\\lib\\site-packages\\xgboost\\sklearn.py\u001b[0m in \u001b[0;36mpredict\u001b[1;34m(self, X, output_margin, ntree_limit, validate_features, base_margin, iteration_range)\u001b[0m\n\u001b[0;32m    818\u001b[0m         \u001b[1;32mif\u001b[0m \u001b[0mself\u001b[0m\u001b[1;33m.\u001b[0m\u001b[0m_can_use_inplace_predict\u001b[0m\u001b[1;33m(\u001b[0m\u001b[1;33m)\u001b[0m\u001b[1;33m:\u001b[0m\u001b[1;33m\u001b[0m\u001b[1;33m\u001b[0m\u001b[0m\n\u001b[0;32m    819\u001b[0m             \u001b[1;32mtry\u001b[0m\u001b[1;33m:\u001b[0m\u001b[1;33m\u001b[0m\u001b[1;33m\u001b[0m\u001b[0m\n\u001b[1;32m--> 820\u001b[1;33m                 predts = self.get_booster().inplace_predict(\n\u001b[0m\u001b[0;32m    821\u001b[0m                     \u001b[0mdata\u001b[0m\u001b[1;33m=\u001b[0m\u001b[0mX\u001b[0m\u001b[1;33m,\u001b[0m\u001b[1;33m\u001b[0m\u001b[1;33m\u001b[0m\u001b[0m\n\u001b[0;32m    822\u001b[0m                     \u001b[0miteration_range\u001b[0m\u001b[1;33m=\u001b[0m\u001b[0miteration_range\u001b[0m\u001b[1;33m,\u001b[0m\u001b[1;33m\u001b[0m\u001b[1;33m\u001b[0m\u001b[0m\n",
      "\u001b[1;32mc:\\users\\chira\\appdata\\local\\programs\\python\\python39\\lib\\site-packages\\xgboost\\core.py\u001b[0m in \u001b[0;36minplace_predict\u001b[1;34m(self, data, iteration_range, predict_type, missing, validate_features, base_margin, strict_shape)\u001b[0m\n\u001b[0;32m   1846\u001b[0m         \u001b[1;32mif\u001b[0m \u001b[0misinstance\u001b[0m\u001b[1;33m(\u001b[0m\u001b[0mdata\u001b[0m\u001b[1;33m,\u001b[0m \u001b[0mnp\u001b[0m\u001b[1;33m.\u001b[0m\u001b[0mndarray\u001b[0m\u001b[1;33m)\u001b[0m\u001b[1;33m:\u001b[0m\u001b[1;33m\u001b[0m\u001b[1;33m\u001b[0m\u001b[0m\n\u001b[0;32m   1847\u001b[0m             \u001b[1;32mfrom\u001b[0m \u001b[1;33m.\u001b[0m\u001b[0mdata\u001b[0m \u001b[1;32mimport\u001b[0m \u001b[0m_ensure_np_dtype\u001b[0m\u001b[1;33m\u001b[0m\u001b[1;33m\u001b[0m\u001b[0m\n\u001b[1;32m-> 1848\u001b[1;33m             \u001b[0mdata\u001b[0m\u001b[1;33m,\u001b[0m \u001b[0m_\u001b[0m \u001b[1;33m=\u001b[0m \u001b[0m_ensure_np_dtype\u001b[0m\u001b[1;33m(\u001b[0m\u001b[0mdata\u001b[0m\u001b[1;33m,\u001b[0m \u001b[0mdata\u001b[0m\u001b[1;33m.\u001b[0m\u001b[0mdtype\u001b[0m\u001b[1;33m)\u001b[0m\u001b[1;33m\u001b[0m\u001b[1;33m\u001b[0m\u001b[0m\n\u001b[0m\u001b[0;32m   1849\u001b[0m             _check_call(\n\u001b[0;32m   1850\u001b[0m                 _LIB.XGBoosterPredictFromDense(\n",
      "\u001b[1;32mc:\\users\\chira\\appdata\\local\\programs\\python\\python39\\lib\\site-packages\\xgboost\\data.py\u001b[0m in \u001b[0;36m_ensure_np_dtype\u001b[1;34m(data, dtype)\u001b[0m\n\u001b[0;32m    107\u001b[0m \u001b[1;32mdef\u001b[0m \u001b[0m_ensure_np_dtype\u001b[0m\u001b[1;33m(\u001b[0m\u001b[0mdata\u001b[0m\u001b[1;33m,\u001b[0m \u001b[0mdtype\u001b[0m\u001b[1;33m)\u001b[0m\u001b[1;33m:\u001b[0m\u001b[1;33m\u001b[0m\u001b[1;33m\u001b[0m\u001b[0m\n\u001b[0;32m    108\u001b[0m     \u001b[1;32mif\u001b[0m \u001b[0mdata\u001b[0m\u001b[1;33m.\u001b[0m\u001b[0mdtype\u001b[0m\u001b[1;33m.\u001b[0m\u001b[0mhasobject\u001b[0m\u001b[1;33m:\u001b[0m\u001b[1;33m\u001b[0m\u001b[1;33m\u001b[0m\u001b[0m\n\u001b[1;32m--> 109\u001b[1;33m         \u001b[0mdata\u001b[0m \u001b[1;33m=\u001b[0m \u001b[0mdata\u001b[0m\u001b[1;33m.\u001b[0m\u001b[0mastype\u001b[0m\u001b[1;33m(\u001b[0m\u001b[0mnp\u001b[0m\u001b[1;33m.\u001b[0m\u001b[0mfloat32\u001b[0m\u001b[1;33m,\u001b[0m \u001b[0mcopy\u001b[0m\u001b[1;33m=\u001b[0m\u001b[1;32mFalse\u001b[0m\u001b[1;33m)\u001b[0m\u001b[1;33m\u001b[0m\u001b[1;33m\u001b[0m\u001b[0m\n\u001b[0m\u001b[0;32m    110\u001b[0m         \u001b[0mdtype\u001b[0m \u001b[1;33m=\u001b[0m \u001b[0mnp\u001b[0m\u001b[1;33m.\u001b[0m\u001b[0mfloat32\u001b[0m\u001b[1;33m\u001b[0m\u001b[1;33m\u001b[0m\u001b[0m\n\u001b[0;32m    111\u001b[0m     \u001b[1;32mreturn\u001b[0m \u001b[0mdata\u001b[0m\u001b[1;33m,\u001b[0m \u001b[0mdtype\u001b[0m\u001b[1;33m\u001b[0m\u001b[1;33m\u001b[0m\u001b[0m\n",
      "\u001b[1;31mValueError\u001b[0m: could not convert string to float: 'C'"
     ]
    }
   ],
   "source": [
    "predictions = xgb.predict(dft)"
   ]
  },
  {
   "cell_type": "code",
   "execution_count": null,
   "id": "f24047ec",
   "metadata": {},
   "outputs": [],
   "source": [
    "predictions.shape"
   ]
  },
  {
   "cell_type": "code",
   "execution_count": null,
   "id": "126630f2",
   "metadata": {},
   "outputs": [],
   "source": []
  },
  {
   "cell_type": "code",
   "execution_count": null,
   "id": "6b3c2416",
   "metadata": {},
   "outputs": [],
   "source": []
  },
  {
   "cell_type": "code",
   "execution_count": null,
   "id": "db92b0ed",
   "metadata": {},
   "outputs": [],
   "source": []
  },
  {
   "cell_type": "code",
   "execution_count": null,
   "id": "aeab39d3",
   "metadata": {},
   "outputs": [],
   "source": []
  },
  {
   "cell_type": "code",
   "execution_count": null,
   "id": "0480734c",
   "metadata": {},
   "outputs": [],
   "source": []
  },
  {
   "cell_type": "code",
   "execution_count": null,
   "id": "1e08db78",
   "metadata": {},
   "outputs": [],
   "source": []
  },
  {
   "cell_type": "code",
   "execution_count": null,
   "id": "512c5754",
   "metadata": {},
   "outputs": [],
   "source": []
  },
  {
   "cell_type": "markdown",
   "id": "92c50a17",
   "metadata": {},
   "source": [
    "gender= {'M':1,'F':0}\n",
    "drug={'D-penicillamine':0,'Placebo':1}\n",
    "status={'C':0,'CL':1,'D':2}\n",
    "ascites={'N':0,'Y':1}\n",
    "hepatomegaly={'N':0,'Y':1}\n",
    "spiders={'N':0,'Y':1}\n",
    "edema={'N':0,'S':1,'Y':2}\n",
    "dfc['Sex']=dfc['Sex'].map(gender)\n",
    "dfc['Drug']=dfc['Drug'].map(drug)\n",
    "dfc['Status']=dfc['Status'].map(status)\n",
    "dfc['Ascites']=dfc['Ascites'].map(ascites)\n",
    "dfc['Hepatomegaly']=dfc['Hepatomegaly'].map(hepatomegaly)\n",
    "dfc['Spiders']=dfc['Spiders'].map(spiders)\n",
    "dfc['Edema']=dfc['Edema'].map(edema)"
   ]
  },
  {
   "cell_type": "markdown",
   "id": "6fd292ee",
   "metadata": {},
   "source": [
    "fig,axes = plt.subplots(2,4,figsize=(20,10))\n",
    "axes[1,3].text(0.5,0.5,s='Number of patients based on\\n the stage of disease',horizontalalignment='center',\n",
    "               verticalalignment='center',fontsize=12, fontweight='bold',fontfamily='monospace',color=\"#000000\")\n",
    "axes[0,0].set_title('Stage count plot based on Sex ')\n",
    "sns.countplot(x='Sex',hue='Stage', data=dfc, ax=axes[0,0]);    \n",
    "axes[0,1].set_title('Stage count plot based on type of Drug')\n",
    "sns.countplot(x='Drug',hue='Stage', data=dfc, ax=axes[0,1]);\n",
    "axes[0,2].set_title('Stage count plot based on status')\n",
    "sns.countplot(x='Status',hue='Stage', data=dfc, ax=axes[0,2]);\n",
    "axes[0,3].set_title('Stage count plot based on edema')\n",
    "sns.countplot(x='Edema',hue='Stage', data=dfc, ax=axes[0,3]);\n",
    "axes[1,0].set_title('Stage count plot based on spiders ')\n",
    "sns.countplot(x='Spiders',hue='Stage', data=dfc, ax=axes[1,0]);\n",
    "axes[1,1].set_title('Stage count plot based on ascites')\n",
    "sns.countplot(x='Ascites',hue='Stage', data=dfc, ax=axes[1,1]);\n",
    "axes[1,2].set_title('Stage count plot based on Hepatomegaly')\n",
    "sns.countplot(x='Hepatomegaly',hue='Stage', data=dfc, ax=axes[1,2]);\n",
    "\n",
    "\n",
    "plt.tight_layout(pad=2);"
   ]
  }
 ],
 "metadata": {
  "kernelspec": {
   "display_name": "Python 3 (ipykernel)",
   "language": "python",
   "name": "python3"
  },
  "language_info": {
   "codemirror_mode": {
    "name": "ipython",
    "version": 3
   },
   "file_extension": ".py",
   "mimetype": "text/x-python",
   "name": "python",
   "nbconvert_exporter": "python",
   "pygments_lexer": "ipython3",
   "version": "3.9.6"
  }
 },
 "nbformat": 4,
 "nbformat_minor": 5
}
